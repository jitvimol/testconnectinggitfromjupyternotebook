{
 "cells": [
  {
   "cell_type": "markdown",
   "metadata": {},
   "source": [
    "## Load library"
   ]
  },
  {
   "cell_type": "code",
   "execution_count": 32,
   "metadata": {
    "code_folding": [
     0,
     2,
     33,
     46,
     84,
     90,
     102
    ],
    "scrolled": false
   },
   "outputs": [
    {
     "name": "stdout",
     "output_type": "stream",
     "text": [
      "\u001b[5m\u001b[7m\u001b[31mHello, World!\u001b[0m\n",
      "\u001b[41m\u001b[32mHello, World!\u001b[0m\n",
      "\u001b[46m\u001b[31mHello, World!\u001b[0m\n",
      "\u001b[40m\u001b[32mHello World!\u001b[0m\n",
      "Lastest report that display : ['32562']\n"
     ]
    },
    {
     "name": "stderr",
     "output_type": "stream",
     "text": [
      "\u001b[1m\u001b[31mAttention!\u001b[0m\n"
     ]
    }
   ],
   "source": [
    "#Load Library\n",
    "file = open(\"host.txt\", 'r')\n",
    "for line in file.readlines():\n",
    "    data = line.rstrip().split(',') #using rstrip to remove the \\n\n",
    "    username = data[0]\n",
    "    password = data[1]\n",
    "    email = data[2]\n",
    "    \n",
    "import warnings\n",
    "warnings.filterwarnings('ignore')\n",
    "\n",
    "from IPython.core.interactiveshell import InteractiveShell\n",
    "InteractiveShell.ast_node_interactivity = \"all\"\n",
    "\n",
    "from IPython.display import Audio, display\n",
    "from langdetect import detect\n",
    "\n",
    "import qgrid\n",
    "import os\n",
    "import re\n",
    "\n",
    "from PIL import Image\n",
    "import requests\n",
    "from io import BytesIO\n",
    "\n",
    "import pandas as pd\n",
    "import numpy as np\n",
    "\n",
    "import time\n",
    "from lxml import html\n",
    "import requests\n",
    "from bs4 import BeautifulSoup\n",
    "    \n",
    "def alldone():\n",
    "    #display(Audio(filename='Bossa Vega - Mike Figgis.mp3', autoplay=True))\n",
    "    #IPython.display.display(IPython.display.Audio(url=url, autoplay=True))\n",
    "    display(Audio(url='http://www.soundjay.com/button/beep-07.wav', autoplay=True))\n",
    "\n",
    "    #set display image size\n",
    "width = 188\n",
    "height = 333\n",
    "\n",
    "from ftplib import FTP, error_perm\n",
    "ftp = FTP()\n",
    "ftp.encoding = \"UTF-8\"\n",
    "\n",
    "def connect_ftp():\n",
    "    ftp.connect('172.96.191.12', 21) # Hawkhost\n",
    "    ftp.login(email,password)\n",
    "    ftp.cwd('/public_html/assets/uploads/user_uploads_report/')\n",
    "\n",
    "connect_ftp()\n",
    "    \n",
    "import mysql.connector\n",
    "from mysql.connector import Error\n",
    "\n",
    "import numpy as np \n",
    "import pandas as pd\n",
    "import datetime\n",
    "\n",
    "import matplotlib.pyplot as plt\n",
    "%matplotlib inline\n",
    "\n",
    "connection = mysql.connector.connect(host='172.96.191.12',database='blacklis_db2020',user=username,password=password)\n",
    "mycursor = connection.cursor()\n",
    "\n",
    "import sys\n",
    "from termcolor import colored, cprint\n",
    "\n",
    "text = colored('Hello, World!', 'red', attrs=['reverse', 'blink'])\n",
    "print(text)\n",
    "cprint('Hello, World!', 'green', 'on_red')\n",
    "\n",
    "print_red_on_cyan = lambda x: cprint(x, 'red', 'on_cyan')\n",
    "print_red_on_cyan('Hello, World!')\n",
    "\n",
    "cprint(\"Attention!\", 'red', attrs=['bold'], file=sys.stderr)\n",
    "\n",
    "hello=colored('Hello World!', color='green', on_color='on_grey')\n",
    "print(hello)\n",
    "\n",
    "def color_text(x):\n",
    "    return colored(str(x), 'red', attrs=['reverse', 'blink'])\n",
    "    \n",
    "def close_connection():    \n",
    "    if connection and mycursor:\n",
    "        mycursor.close() \n",
    "        connection.close() \n",
    "    return None\n",
    "\n",
    "class color:\n",
    "    purple = '\\033[95m'\n",
    "    cyan = '\\033[96m'\n",
    "    darkcyan = '\\033[36m'\n",
    "    blue = '\\033[94m'\n",
    "    green = '\\033[92m'\n",
    "    yellow = '\\033[93m'\n",
    "    red = '\\033[91m'\n",
    "    bold = '\\033[1m'\n",
    "    underline = '\\033[4m'\n",
    "    end = '\\033[0m'\n",
    "    \n",
    "def checkPID(pid):\n",
    "  if(len(pid) != 13):\n",
    "    return False\n",
    "  num=0 \n",
    "  num2=13\n",
    "  listdata=list(pid) \n",
    "  sum=0 \n",
    "  while num<12:\n",
    "    sum+=int(listdata[num])*(num2-num) \n",
    "    num+=1 \n",
    "  digit13 = sum%11\n",
    "  if digit13==0: \n",
    "    digit13=1 \n",
    "  elif digit13==1:\n",
    "    digit13=0\n",
    "  else:\n",
    "    digit13=11-digit13 \n",
    "  if digit13==int(listdata[12]):\n",
    "    return True\n",
    "  else:\n",
    "    return False        \n",
    "\n",
    "# Find latest report id\n",
    "\n",
    "#%%capture\n",
    "file = open(\"last_report_id.txt\", 'r')\n",
    "for line in file.readlines():\n",
    "    latest_display_report = line.rstrip().split(',') #using rstrip to remove the \\n    \n",
    "print(f\"Lastest report that display : {latest_display_report}\")\n",
    "\n",
    "#Check latest report id\n",
    "response = requests.get(\"https://www.blacklistseller.com\")\n",
    "soup = BeautifulSoup(response.text, 'html.parser')\n",
    "#soup.findAll('a')\n",
    "\n",
    "latest_report_id = str(soup.findAll('a')[7])\n",
    "latest_report_id=latest_report_id.split(\"/\")[5][0:5]\n",
    "latest_report_id = int(latest_report_id)\n",
    "\n",
    "def runsql(command):\n",
    "    connect_ftp()\n",
    "    close_connection()\n",
    "    connection = mysql.connector.connect(host='172.96.191.12',database='blacklis_db2020',user=username,password=password)\n",
    "    mycursor = connection.cursor()\n",
    "    mycursor.execute(command)\n",
    "    connection.commit()"
   ]
  },
  {
   "cell_type": "markdown",
   "metadata": {},
   "source": [
    "### Load list of files and tb_table"
   ]
  },
  {
   "cell_type": "code",
   "execution_count": 33,
   "metadata": {
    "code_folding": [
     0
    ],
    "scrolled": false
   },
   "outputs": [
    {
     "name": "stdout",
     "output_type": "stream",
     "text": [
      "tb_report_item and tb_report 35.02  second running time\n",
      "\n",
      "Time running this code:  18-May-2020 15:07:27\n"
     ]
    }
   ],
   "source": [
    "#List list of tb_report_item & tb_report\n",
    "\n",
    "start_time = time.time()\n",
    "\n",
    "close_connection()\n",
    "connection = mysql.connector.connect(host='172.96.191.12',database='blacklis_db2020',user=username,password=password)\n",
    "mycursor = connection.cursor()\n",
    "\n",
    "mycursor.execute(\"select * from tb_report_item LIMIT 100000\")\n",
    "result = mycursor.fetchall()\n",
    "field_names = [i[0] for i in mycursor.description]  #Column name\n",
    "file1 = pd.DataFrame(result, columns=field_names)\n",
    "\n",
    "mycursor.execute(\"select * from tb_report_item LIMIT 10000 OFFSET 100000\")\n",
    "result = mycursor.fetchall()\n",
    "field_names = [i[0] for i in mycursor.description]  #Column name\n",
    "file2 = pd.DataFrame(result, columns=field_names)\n",
    "\n",
    "mycursor.execute(\"select * from tb_report_item LIMIT 100000 OFFSET 200000\")\n",
    "result = mycursor.fetchall()\n",
    "field_names = [i[0] for i in mycursor.description]  #Column name\n",
    "file3 = pd.DataFrame(result, columns=field_names)\n",
    "\n",
    "mycursor.execute(\"select * from tb_report_item LIMIT 100000 OFFSET 300000\")\n",
    "result = mycursor.fetchall()\n",
    "field_names = [i[0] for i in mycursor.description]  #Column name\n",
    "file4 = pd.DataFrame(result, columns=field_names)\n",
    "\n",
    "file =pd.concat([file1,file2,file3,file4])\n",
    "# vertical_stack = pd.concat([survey_sub, survey_sub_last10], axis=0)\n",
    "\n",
    "mycursor.execute(\"select * from tb_report\")\n",
    "result = mycursor.fetchall()\n",
    "field_names = [i[0] for i in mycursor.description]  #Column name\n",
    "tb_report = pd.DataFrame(result, columns=field_names)\n",
    "tb_report['fullname'] = tb_report['first_name']+ \" \" + tb_report['last_name']\n",
    "\n",
    "print(\"tb_report_item and tb_report\", round((time.time() - start_time),2), \" second running time\\n\")\n",
    "d = datetime.datetime.today()\n",
    "print(\"Time running this code: \",d.strftime(\"%d-%B-%Y %H:%M:%S\"))"
   ]
  },
  {
   "cell_type": "markdown",
   "metadata": {},
   "source": [
    "### Setting to override"
   ]
  },
  {
   "cell_type": "code",
   "execution_count": 3,
   "metadata": {},
   "outputs": [],
   "source": [
    "#latest_display_report[0]=32397"
   ]
  },
  {
   "cell_type": "code",
   "execution_count": 4,
   "metadata": {
    "code_folding": [
     0
    ],
    "scrolled": true
   },
   "outputs": [
    {
     "name": "stdout",
     "output_type": "stream",
     "text": [
      "Display eport starting at  32562\n",
      "\n",
      "End report =  32875\n",
      "\n",
      "Number of report to display =  313\n"
     ]
    }
   ],
   "source": [
    "#latest_display_report[0]=31864 \n",
    "\n",
    "# latest_report_id = 27313 \n",
    "#latest_display_report[0]=28503\n",
    "\n",
    "number_report_to_show =  int(latest_report_id)-int(latest_display_report[0])\n",
    "print(\"Display eport starting at \",latest_display_report[0])\n",
    "print(\"\\nEnd report = \",latest_report_id)\n",
    "print(\"\\nNumber of report to display = \",number_report_to_show)\n",
    "\n",
    "#number_report_to_show = 100"
   ]
  },
  {
   "cell_type": "code",
   "execution_count": 5,
   "metadata": {
    "code_folding": [
     0
    ],
    "scrolled": true
   },
   "outputs": [
    {
     "name": "stdout",
     "output_type": "stream",
     "text": [
      "Total pictures = 3589\n"
     ]
    }
   ],
   "source": [
    "#Search by report_id and group picture\n",
    "start_time = time.time()\n",
    "report_id_to_show =[]\n",
    "report_id_to_show = list(range(latest_report_id-number_report_to_show+1,latest_report_id+1))\n",
    "report_id_to_show = [str(x).zfill(len(str(number_report_to_show))) for x in report_id_to_show]\n",
    "\n",
    "#selected = file[(file['report_id'].isin(report_id_to_show)) & (file['report_item_active'] == 1)]\n",
    "selected = file[(file['report_id'].isin(report_id_to_show))]\n",
    "\n",
    "print(\"Total pictures = \" + str(selected.shape[0]))\n",
    "\n",
    "#Prepare group list\n",
    "recent_pic = selected['report_item_filename'].values.tolist()\n",
    "\n",
    "#create variable \"group\" : a list that group pic for each report_id\n",
    "temp=[]\n",
    "group = []\n",
    "k=0\n",
    "\n",
    "for x in report_id_to_show:\n",
    "    for j in range(len(recent_pic)):        \n",
    "        if recent_pic[j][1:6] == str(x):\n",
    "            temp.append(recent_pic[j])\n",
    "        #group[k]= temp\n",
    "    try:\n",
    "        group.append(temp)\n",
    "    except IndexError:\n",
    "        print(\"some error\")\n",
    "    \n",
    "    temp=[]\n",
    "    k+=1\n",
    "    "
   ]
  },
  {
   "cell_type": "markdown",
   "metadata": {},
   "source": [
    "### Display report pictures"
   ]
  },
  {
   "cell_type": "code",
   "execution_count": null,
   "metadata": {},
   "outputs": [],
   "source": []
  },
  {
   "cell_type": "code",
   "execution_count": null,
   "metadata": {
    "code_folding": [],
    "scrolled": false
   },
   "outputs": [],
   "source": [
    "#Display report pictures\n",
    "start_time = time.time()\n",
    "\n",
    "test=[]\n",
    "inactive_report = []\n",
    "for x in group:\n",
    "    z=0\n",
    "    test=[]\n",
    "    for y in range(len(x)):        \n",
    "        url = \"https://www.blacklistseller.com/assets/uploads/user_uploads_report/\" + x[z]\n",
    "        test.append(url)\n",
    "        z+=1\n",
    "        \n",
    "    if x != []:                \n",
    "        a = tb_report[tb_report['report_id'] == int(x[z-1][1:6])]['fullname'].tolist()\n",
    "        b = str(tb_report[tb_report['report_id'] == int(x[z-1][1:6])]['create_date'].tolist())[11:-2]\n",
    "        if tb_report[tb_report['report_id'] == int(x[z-1][1:6])]['active'].tolist()[0] == 0:\n",
    "            inactive_report.append(int(x[z-1][1:6]))\n",
    "            print(color_text(\"Report ID:\"), color_text(x[z-1][1:6]), \"| Active = \", tb_report[tb_report['report_id'] == int(x[z-1][1:6])]['active'].tolist(),b,\"| Seller name:\", a)\n",
    "        else:\n",
    "            print(\"Report ID:\", x[z-1][1:6], \"| Active = \", tb_report[tb_report['report_id'] == int(x[z-1][1:6])]['active'].tolist(),b,\"| Seller name:\", a)\n",
    "                \n",
    "        x_offset = 0\n",
    "        new_im = Image.new('RGB', (width*len(x),height))\n",
    "        for x in test:\n",
    "            response = requests.get(x)\n",
    "            try:\n",
    "                img = Image.open(BytesIO(response.content))\n",
    "            except IOError:\n",
    "                #print '%s could not be opened' % imagepath\n",
    "                print(\"Could not opened\")\n",
    "\n",
    "            img = img.resize( (width , height), resample=0)\n",
    "            new_im.paste(img, (x_offset,0))\n",
    "            x_offset += width\n",
    "        new_im\n",
    "\n",
    "alldone()\n",
    "print(round((time.time() - start_time)/60,2), \" minutes running time\")\n",
    "print(f'\\nRecent checked report : {latest_report_id}')\n",
    "print(\"\\nInactive report :\")\n",
    "for x in inactive_report:\n",
    "    print(x,end=\" \")\n",
    "    \n",
    "text_file = open(\"last_report_id.txt\", encoding=\"utf-8\", mode=\"w\")\n",
    "_=text_file.write(str(latest_report_id) + \"\\n\")\n",
    "#text_file.write(SQL)\n",
    "text_file.close()\n"
   ]
  },
  {
   "cell_type": "code",
   "execution_count": null,
   "metadata": {},
   "outputs": [],
   "source": [
    "for x in inactive_report:\n",
    "    print(x,end=\" \")"
   ]
  },
  {
   "cell_type": "markdown",
   "metadata": {},
   "source": [
    "# ============END=============="
   ]
  },
  {
   "cell_type": "markdown",
   "metadata": {},
   "source": [
    "## Find creater(user) by report id"
   ]
  },
  {
   "cell_type": "code",
   "execution_count": 20,
   "metadata": {},
   "outputs": [],
   "source": [
    "x =  28468                               \n",
    "\n",
    "#report id to find"
   ]
  },
  {
   "cell_type": "code",
   "execution_count": 21,
   "metadata": {
    "code_folding": [
     0
    ],
    "scrolled": true
   },
   "outputs": [
    {
     "data": {
      "text/html": [
       "<div>\n",
       "<style scoped>\n",
       "    .dataframe tbody tr th:only-of-type {\n",
       "        vertical-align: middle;\n",
       "    }\n",
       "\n",
       "    .dataframe tbody tr th {\n",
       "        vertical-align: top;\n",
       "    }\n",
       "\n",
       "    .dataframe thead th {\n",
       "        text-align: right;\n",
       "    }\n",
       "</style>\n",
       "<table border=\"1\" class=\"dataframe\">\n",
       "  <thead>\n",
       "    <tr style=\"text-align: right;\">\n",
       "      <th></th>\n",
       "      <th>report_id</th>\n",
       "      <th>user_id</th>\n",
       "      <th>username</th>\n",
       "      <th>facebook_id</th>\n",
       "      <th>first_name</th>\n",
       "      <th>last_name</th>\n",
       "      <th>email</th>\n",
       "      <th>phone_number</th>\n",
       "      <th>active</th>\n",
       "      <th>seller name</th>\n",
       "    </tr>\n",
       "  </thead>\n",
       "  <tbody>\n",
       "    <tr>\n",
       "      <th>0</th>\n",
       "      <td>28468</td>\n",
       "      <td>76982</td>\n",
       "      <td></td>\n",
       "      <td>1396564197197717</td>\n",
       "      <td>มุก'</td>\n",
       "      <td>กิตติกานต์'</td>\n",
       "      <td>0</td>\n",
       "      <td></td>\n",
       "      <td>1</td>\n",
       "      <td>สุเนตรา แก้วมณี</td>\n",
       "    </tr>\n",
       "  </tbody>\n",
       "</table>\n",
       "</div>"
      ],
      "text/plain": [
       "   report_id  user_id username       facebook_id first_name    last_name  \\\n",
       "0      28468    76982           1396564197197717       มุก'  กิตติกานต์'   \n",
       "\n",
       "  email phone_number  active      seller name  \n",
       "0     0                    1  สุเนตรา แก้วมณี  "
      ]
     },
     "execution_count": 21,
     "metadata": {},
     "output_type": "execute_result"
    },
    {
     "name": "stdout",
     "output_type": "stream",
     "text": [
      "Report ID : 28468\n",
      "\n",
      "Facebook user (เอาชื่อไปค้น) \n",
      "========================\n",
      "Report ID : 28468 |  Active : 1  |  มุก' กิตติกานต์'\n",
      "\n",
      "Non-Facebook user (โทรไปหา) \n",
      "==========================\n",
      "\n"
     ]
    }
   ],
   "source": [
    "#Execute CODE\n",
    "\n",
    "close_connection()\n",
    "connection = mysql.connector.connect(host='172.96.191.12',database='blacklis_db2020',user=username,password=password)\n",
    "mycursor = connection.cursor()\n",
    "\n",
    "TEXT = \"SELECT tb_report.report_id, tb_user.user_id, tb_user.username, tb_user.facebook_id, tb_user.first_name, tb_user.last_name, tb_user.email, tb_user.phone_number, tb_report.first_name, tb_report.last_name, tb_report.active FROM tb_report JOIN tb_user ON tb_report.user_id = tb_user.user_id WHERE tb_report.report_id = \" + str(x)\n",
    "mycursor.execute(TEXT)\n",
    "result = mycursor.fetchall()\n",
    "field_names = [i[0] for i in mycursor.description]\n",
    "\n",
    "df_user=pd.DataFrame(result, columns=field_names)\n",
    "df_user.columns = ['report_id', 'user_id', 'username', 'facebook_id', 'first_name','last_name', 'email', 'phone_number', 'S_first_name', 'S_last_name','active']\n",
    "df_user['seller name'] = df_user['S_first_name'] + \" \" + df_user['S_last_name']\n",
    "df_user.drop(['S_first_name','S_last_name'], axis=1, inplace = True)\n",
    "df_user\n",
    "\n",
    "FB=\"\"\n",
    "contact = \"\"\n",
    "print(\"Report ID : \" + str(x) +\"\\n\")\n",
    "for index,row in df_user.iterrows():\n",
    "    if row['username'] == \"\":\n",
    "        FB = FB + \"Report ID : \"+ str(row['report_id']) +\" |  \" + \"Active : \" +str(row['active']) + \"  |  \" + row['first_name']+\" \"+row['last_name'] +\"\\n\"\n",
    "    else:\n",
    "        contact = contact + \"Report ID : \" + str(row['report_id']) +\" |  \" + \"Name: \"+ row['first_name'] +\"  Email: \"+ row['email']+\"  Tel: \"+row['phone_number'] + \"   |  Report active: \" + str(row['active']) +\"\\n\" \n",
    "            \n",
    "print(\"Facebook user (เอาชื่อไปค้น) \\n========================\\n\" + FB)\n",
    "\n",
    "print(\"Non-Facebook user (โทรไปหา) \\n==========================\\n\" +contact)\n"
   ]
  },
  {
   "cell_type": "markdown",
   "metadata": {},
   "source": [
    "## Find user who create by seller lastname"
   ]
  },
  {
   "cell_type": "code",
   "execution_count": 11,
   "metadata": {},
   "outputs": [],
   "source": [
    "x =  \"กันธิยะ\"   # seller lastname"
   ]
  },
  {
   "cell_type": "code",
   "execution_count": 12,
   "metadata": {
    "code_folding": [
     0
    ],
    "scrolled": false
   },
   "outputs": [
    {
     "data": {
      "text/plain": [
       "\"SELECT tb_report.report_id, tb_user.user_id, tb_user.username, tb_user.facebook_id, tb_user.first_name, tb_user.last_name, tb_user.email, tb_user.phone_number, tb_report.first_name, tb_report.last_name,tb_report.active FROM tb_report JOIN tb_user ON tb_report.user_id = tb_user.user_id WHERE tb_report.last_name LIKE '%กันธิยะ%'\""
      ]
     },
     "execution_count": 12,
     "metadata": {},
     "output_type": "execute_result"
    },
    {
     "data": {
      "text/html": [
       "<div>\n",
       "<style scoped>\n",
       "    .dataframe tbody tr th:only-of-type {\n",
       "        vertical-align: middle;\n",
       "    }\n",
       "\n",
       "    .dataframe tbody tr th {\n",
       "        vertical-align: top;\n",
       "    }\n",
       "\n",
       "    .dataframe thead th {\n",
       "        text-align: right;\n",
       "    }\n",
       "</style>\n",
       "<table border=\"1\" class=\"dataframe\">\n",
       "  <thead>\n",
       "    <tr style=\"text-align: right;\">\n",
       "      <th></th>\n",
       "      <th>report_id</th>\n",
       "      <th>user_id</th>\n",
       "      <th>username</th>\n",
       "      <th>facebook_id</th>\n",
       "      <th>first_name</th>\n",
       "      <th>last_name</th>\n",
       "      <th>email</th>\n",
       "      <th>phone_number</th>\n",
       "      <th>active</th>\n",
       "      <th>seller name</th>\n",
       "    </tr>\n",
       "  </thead>\n",
       "  <tbody>\n",
       "    <tr>\n",
       "      <th>0</th>\n",
       "      <td>10654</td>\n",
       "      <td>30322</td>\n",
       "      <td></td>\n",
       "      <td>755876664842374</td>\n",
       "      <td>N'phaohom</td>\n",
       "      <td>Thanasorn</td>\n",
       "      <td>0</td>\n",
       "      <td></td>\n",
       "      <td>1</td>\n",
       "      <td>ทรงอภิสิทธิ์ กันธิยะ</td>\n",
       "    </tr>\n",
       "    <tr>\n",
       "      <th>1</th>\n",
       "      <td>12402</td>\n",
       "      <td>34661</td>\n",
       "      <td></td>\n",
       "      <td>3162958820444758</td>\n",
       "      <td>Jirawan</td>\n",
       "      <td>Herabat</td>\n",
       "      <td>0</td>\n",
       "      <td></td>\n",
       "      <td>1</td>\n",
       "      <td>ทรงอภิสิทธิ์ กันธิยะ</td>\n",
       "    </tr>\n",
       "  </tbody>\n",
       "</table>\n",
       "</div>"
      ],
      "text/plain": [
       "   report_id  user_id username       facebook_id first_name  last_name email  \\\n",
       "0      10654    30322            755876664842374  N'phaohom  Thanasorn     0   \n",
       "1      12402    34661           3162958820444758    Jirawan    Herabat     0   \n",
       "\n",
       "  phone_number  active           seller name  \n",
       "0                    1  ทรงอภิสิทธิ์ กันธิยะ  \n",
       "1                    1  ทรงอภิสิทธิ์ กันธิยะ  "
      ]
     },
     "execution_count": 12,
     "metadata": {},
     "output_type": "execute_result"
    },
    {
     "name": "stdout",
     "output_type": "stream",
     "text": [
      "Seller lastname : กันธิยะ\n",
      "\n",
      "Facebook user (เอาชื่อไปค้น) \n",
      "=================\n",
      "Report id : 10654 |  Active : 1  |  N'phaohom Thanasorn\n",
      "Report id : 12402 |  Active : 1  |  Jirawan Herabat\n",
      "\n",
      "Non-Facebook user (โทรไปหา) \n",
      "=================\n",
      "\n"
     ]
    }
   ],
   "source": [
    "#Code\n",
    "close_connection()\n",
    "connection = mysql.connector.connect(host='172.96.191.12',database='blacklis_db2020',user=username,password=password)\n",
    "mycursor = connection.cursor()\n",
    "\n",
    "#Lastname\n",
    "TEXT = \"SELECT tb_report.report_id, tb_user.user_id, tb_user.username, tb_user.facebook_id, tb_user.first_name, tb_user.last_name, tb_user.email, tb_user.phone_number, tb_report.first_name, tb_report.last_name,tb_report.active FROM tb_report JOIN tb_user ON tb_report.user_id = tb_user.user_id WHERE tb_report.last_name LIKE '%\" + x +\"%'\"\n",
    "\n",
    "#Firstname\n",
    "# TEXT = \"SELECT tb_report.report_id, tb_user.user_id, tb_user.username, tb_user.facebook_id, tb_user.first_name, tb_user.last_name, tb_user.email, tb_user.phone_number, tb_report.first_name, tb_report.last_name FROM tb_report JOIN tb_user ON tb_report.user_id = tb_user.user_id WHERE tb_report.first_name LIKE '%\" + x +\"%'\"\n",
    "TEXT\n",
    "mycursor.execute(TEXT)\n",
    "result = mycursor.fetchall()\n",
    "field_names = [i[0] for i in mycursor.description]\n",
    "df_user=pd.DataFrame(result, columns=field_names)\n",
    "df_user.columns = ['report_id', 'user_id', 'username', 'facebook_id', 'first_name','last_name', 'email', 'phone_number', 'S_first_name', 'S_last_name','active']\n",
    "df_user['seller name'] = df_user['S_first_name'] + \" \" + df_user['S_last_name']\n",
    "#df_user['seller name'] = df_user.iloc[:,-2] + \" \" + df_user.iloc[:,-1]\n",
    "df_user.drop(['S_first_name','S_last_name'], axis=1, inplace = True)\n",
    "df_user\n",
    "FB=\"\"\n",
    "contact = \"\"\n",
    "print(\"Seller lastname : \" + str(x) +\"\\n\")\n",
    "for index,row in df_user.iterrows():\n",
    "    if row['username'] == \"\":\n",
    "        FB = FB + \"Report id : \"+ str(row['report_id']) +\" |  \" + \"Active : \" +str(row['active']) + \"  |  \" + row['first_name']+\" \"+row['last_name'] +\"\\n\"\n",
    "    else:\n",
    "        contact = contact + \"Report id \" + str(row['report_id']) +\" |  \" + \"Name: \"+ row['first_name'] +\"  Email: \"+ row['email']+\"  Tel: \"+row['phone_number'] + \"   |  Report active: \" + str(row['active']) +\"\\n\" \n",
    "            \n",
    "print(\"Facebook user (เอาชื่อไปค้น) \\n=================\\n\" + FB)\n",
    "\n",
    "print(\"Non-Facebook user (โทรไปหา) \\n=================\\n\" +contact)"
   ]
  },
  {
   "cell_type": "markdown",
   "metadata": {},
   "source": [
    "## Find report ID by ชื่อคนโกง"
   ]
  },
  {
   "cell_type": "code",
   "execution_count": null,
   "metadata": {
    "scrolled": true
   },
   "outputs": [],
   "source": [
    "close_connection()\n",
    "connection = mysql.connector.connect(host='172.96.191.12',database='blacklis_db2020',user=username,password=password)\n",
    "mycursor = connection.cursor()\n",
    "\n",
    "x= \"วงค์ษาไชย\"   # either firstname or last name\n",
    "\n",
    "TEXT = \"SELECT report_id, user_id, first_name, last_name , create_date, active FROM tb_report WHERE first_name LIKE '%\" + x +\"%'\" + \"OR last_name LIKE '%\" + x +\"%' ORDER BY report_id DESC\"\n",
    "\n",
    "mycursor.execute(TEXT)\n",
    "result = mycursor.fetchall()\n",
    "field_names = [i[0] for i in mycursor.description]\n",
    "pd.DataFrame(result, columns=field_names)\n"
   ]
  },
  {
   "cell_type": "code",
   "execution_count": null,
   "metadata": {
    "scrolled": true
   },
   "outputs": [],
   "source": []
  },
  {
   "cell_type": "markdown",
   "metadata": {},
   "source": [
    "## Find Report by user_ID"
   ]
  },
  {
   "cell_type": "code",
   "execution_count": null,
   "metadata": {
    "scrolled": true
   },
   "outputs": [],
   "source": [
    "x= 77011      # user ID\n",
    "\n",
    "close_connection()\n",
    "connection = mysql.connector.connect(host='172.96.191.12',database='blacklis_db2020',user=username,password=password)\n",
    "mycursor = connection.cursor()\n",
    "\n",
    "TEXT = \"SELECT * FROM `tb_report` WHERE `user_id` =\" + str(x) + \" ORDER BY `report_id` ASC\"\n",
    "\n",
    "mycursor.execute(TEXT)\n",
    "result = mycursor.fetchall()\n",
    "field_names = [i[0] for i in mycursor.description]\n",
    "pd.DataFrame(result, columns=field_names)\n"
   ]
  },
  {
   "cell_type": "markdown",
   "metadata": {},
   "source": [
    "## FIX missing report"
   ]
  },
  {
   "cell_type": "code",
   "execution_count": null,
   "metadata": {
    "scrolled": true
   },
   "outputs": [],
   "source": [
    "close_connection()\n",
    "connection = mysql.connector.connect(host='172.96.191.12',database='blacklis_db2020',user=username,password=password)\n",
    "mycursor = connection.cursor()\n",
    "\n",
    "TEXT = \"SELECT * from tb_user where facebook_id is not null ORDER BY user_id ASC \"\n",
    "mycursor.execute(TEXT)\n",
    "result = mycursor.fetchall()\n",
    "field_names = [i[0] for i in mycursor.description]\n",
    "df2=pd.DataFrame(result, columns=field_names)\n",
    "df2['facebook_id'].replace('', np.nan, inplace=True)\n",
    "df2.dropna(subset=['facebook_id'], inplace=True)\n",
    "df2['fullname'] = df2['first_name']+ \" \" + df2['last_name']\n",
    "df2.drop(df2[ df2['fullname'] == \"0 0\" ].index , inplace=True)"
   ]
  },
  {
   "cell_type": "code",
   "execution_count": null,
   "metadata": {
    "scrolled": true
   },
   "outputs": [],
   "source": [
    "#df2.sort_values(by='fullname', ascending = True)\n",
    "# dup_id = df2[df2['fullname'].duplicated()]\n",
    "# dup_id\n",
    "duplicate = df2[df2['fullname'].duplicated(keep=False)]\n",
    "duplicate = duplicate.sort_values(by='fullname', ascending = True)\n",
    "# duplicate\n",
    "#df2[df2['fullname'] == \"สนุ๊กเกอร์ นุ๊ก\"]\n",
    "listofdupuser = duplicate['user_id'].tolist()"
   ]
  },
  {
   "cell_type": "code",
   "execution_count": null,
   "metadata": {
    "scrolled": true
   },
   "outputs": [],
   "source": [
    "mycursor.execute(\"select report_id, user_id,first_name, last_name,active from tb_report\")\n",
    "result = mycursor.fetchall()\n",
    "field_names = [i[0] for i in mycursor.description]  #Column name\n",
    "tb_report2 = pd.DataFrame(result, columns=field_names)\n",
    "tb_report2['fullname'] = tb_report2['first_name']+ \" \" + tb_report2['last_name']\n",
    "n=0\n",
    "for index,row in tb_report2.iterrows():\n",
    "    if row['user_id'] in listofdupuser:\n",
    "        name = str(duplicate[duplicate['user_id']==row['user_id']]['fullname'])\n",
    "        \n",
    "        n+=1\n",
    "        \n",
    "print(n)"
   ]
  },
  {
   "cell_type": "markdown",
   "metadata": {},
   "source": [
    "## 🛠 Fix owner of the report (Find all report created by username)"
   ]
  },
  {
   "cell_type": "code",
   "execution_count": null,
   "metadata": {
    "code_folding": [
     0
    ],
    "scrolled": false
   },
   "outputs": [],
   "source": [
    "#Input fb creater lastname\n",
    "print(\"Creater FB Lastname?\")\n",
    "x = input()\n",
    "\n",
    "# x = \"Pakornlam\"  # facebook user's lastname to find\n",
    "\n",
    "close_connection()\n",
    "connection = mysql.connector.connect(host='172.96.191.12',database='blacklis_db2020',user=username,password=password)\n",
    "mycursor = connection.cursor()\n",
    "\n",
    "TEXT = \"SELECT * from tb_user WHERE tb_user.last_name LIKE '%\" + x +\"%' ORDER BY create_date DESC \"\n",
    "#TEXT = \"SELECT * from tb_user WHERE tb_user.last_name LIKE \"+ x + \" ORDER BY create_date DESC\"\n",
    "mycursor.execute(TEXT)\n",
    "result = mycursor.fetchall()\n",
    "field_names = [i[0] for i in mycursor.description]\n",
    "df_user=pd.DataFrame(result, columns=field_names)\n",
    "print(\"\\nUSER INFORMATION\")\n",
    "df_user\n",
    "\n",
    "#LASTNAME\n",
    "TEXT = \"SELECT tb_report.report_id, tb_report.active, tb_user.user_id, tb_user.username, tb_user.facebook_id, tb_user.first_name, tb_user.last_name, tb_user.email, tb_user.phone_number, tb_report.first_name, tb_report.last_name FROM tb_report JOIN tb_user ON tb_report.user_id = tb_user.user_id WHERE tb_user.last_name LIKE '%\" + x +\"%'\"\n",
    "\n",
    "#FIRSTNAME\n",
    "# TEXT = \"SELECT tb_report.report_id, tb_user.user_id, tb_user.username, tb_user.facebook_id, tb_user.first_name, tb_user.last_name, tb_user.email, tb_user.phone_number, tb_report.first_name, tb_report.last_name FROM tb_report JOIN tb_user ON tb_report.user_id = tb_user.user_id WHERE tb_user.first_name LIKE '%\" + x +\"%'\"\n",
    "mycursor.execute(TEXT)\n",
    "result = mycursor.fetchall()\n",
    "field_names = [i[0] for i in mycursor.description]\n",
    "df_report=pd.DataFrame(result, columns=field_names)\n",
    "print(\"REPORT INFORMATION\")\n",
    "df_report\n",
    "df_report['report_id'].tolist()\n",
    "\n",
    "# Check whether can automate\n",
    "automatic = False\n",
    "if len(df_report) == 1 and len(df_user) ==2:\n",
    "    cprint(\"THIS CAN BE AUTOMATIC\", 'red', attrs=['bold'], file=sys.stderr)\n",
    "    automatic = True\n",
    "    tofix_report_id = df_report.loc[0]['report_id']\n",
    "    tofix_user_id = df_user.loc[0]['user_id']"
   ]
  },
  {
   "cell_type": "markdown",
   "metadata": {},
   "source": [
    "## Run code change owner of report"
   ]
  },
  {
   "cell_type": "code",
   "execution_count": null,
   "metadata": {
    "code_folding": [
     0
    ],
    "scrolled": true
   },
   "outputs": [],
   "source": [
    "#Fix report with user_id\n",
    "close_connection()\n",
    "connection = mysql.connector.connect(host='172.96.191.12',database='blacklis_db2020',user=username,password=password)\n",
    "mycursor = connection.cursor()\n",
    "\n",
    "if automatic == True:\n",
    "    TEXT = \"UPDATE tb_report SET user_id = \"+ str(tofix_user_id) + \" WHERE report_id = \"+ str(tofix_report_id)\n",
    "    TEXT\n",
    "    mycursor.execute(TEXT)\n",
    "    connection.commit()\n",
    "else:\n",
    "    print(\"Report to FIX? (!seperate by comma)\")\n",
    "    report_to_fix = input()\n",
    "    report_to_fix = report_to_fix.split(',')\n",
    "    print(\"User ID?\")\n",
    "    userid = input()\n",
    "    userid=userid.strip()\n",
    "\n",
    "    for x in report_to_fix:\n",
    "        x=x.strip()\n",
    "        #TEXT = \"UPDATE tb_report SET active = 0 WHERE tb_report.report_id = \" + str(x)\n",
    "        TEXT = \"UPDATE tb_report SET user_id = \"+ userid + \" WHERE report_id = \"+ str(x)\n",
    "        TEXT\n",
    "        mycursor.execute(TEXT)\n",
    "        connection.commit()"
   ]
  },
  {
   "cell_type": "markdown",
   "metadata": {},
   "source": [
    "### To find report by fullname "
   ]
  },
  {
   "cell_type": "code",
   "execution_count": null,
   "metadata": {},
   "outputs": [],
   "source": [
    "#  OR  # To find report by fullname \n",
    "y = \"Sirirat\" # Firstname\n",
    "x = \"Hin\" # lastname"
   ]
  },
  {
   "cell_type": "code",
   "execution_count": null,
   "metadata": {
    "code_folding": [
     0
    ]
   },
   "outputs": [],
   "source": [
    "#Code to Find report by full facebook name\n",
    "\n",
    "# x = \"Pakornlam\"  # facebook user's lastname to find\n",
    "\n",
    "close_connection()\n",
    "connection = mysql.connector.connect(host='172.96.191.12',database='blacklis_db2020',user=username,password=password)\n",
    "mycursor = connection.cursor()\n",
    "\n",
    "TEXT = \"SELECT * from tb_user WHERE tb_user.last_name = '\" + x +\"' AND tb_user.first_name = '\" + y +\"' ORDER BY create_date DESC \"\n",
    "mycursor.execute(TEXT)\n",
    "result = mycursor.fetchall()\n",
    "field_names = [i[0] for i in mycursor.description]\n",
    "df_user=pd.DataFrame(result, columns=field_names)\n",
    "print(\"\\nUSER INFORMATION\")\n",
    "df_user\n",
    "\n",
    "#LASTNAME\n",
    "TEXT = \"SELECT tb_report.report_id, tb_report.active, tb_user.user_id, tb_user.username, tb_user.facebook_id, tb_user.first_name, tb_user.last_name, tb_user.email, tb_user.phone_number, tb_report.first_name, tb_report.last_name FROM tb_report JOIN tb_user ON tb_report.user_id = tb_user.user_id WHERE tb_user.last_name = '\" + x +\"' AND tb_user.first_name = '\" + y +\"' \"\n",
    "\n",
    "#FIRSTNAME\n",
    "# TEXT = \"SELECT tb_report.report_id, tb_user.user_id, tb_user.username, tb_user.facebook_id, tb_user.first_name, tb_user.last_name, tb_user.email, tb_user.phone_number, tb_report.first_name, tb_report.last_name FROM tb_report JOIN tb_user ON tb_report.user_id = tb_user.user_id WHERE tb_user.first_name LIKE '%\" + x +\"%'\"\n",
    "mycursor.execute(TEXT)\n",
    "result = mycursor.fetchall()\n",
    "field_names = [i[0] for i in mycursor.description]\n",
    "df_report=pd.DataFrame(result, columns=field_names)\n",
    "print(\"REPORT INFORMATION\")\n",
    "df_report\n",
    "df_report['report_id'].tolist()\n",
    "\n",
    "# Check whether can automate\n",
    "automatic = False\n",
    "if len(df_report) == 1 and len(df_user) ==2:\n",
    "    cprint(\"THIS CAN BE AUTOMATIC\", 'red', attrs=['bold'], file=sys.stderr)\n",
    "    automatic = True\n",
    "    tofix_report_id = df_report.loc[0]['report_id']\n",
    "    tofix_user_id = df_user.loc[0]['user_id']"
   ]
  },
  {
   "cell_type": "markdown",
   "metadata": {},
   "source": [
    "## Find all report by bank account"
   ]
  },
  {
   "cell_type": "code",
   "execution_count": null,
   "metadata": {},
   "outputs": [],
   "source": [
    "x = \"014000000562934\"  # Bank A/C"
   ]
  },
  {
   "cell_type": "code",
   "execution_count": null,
   "metadata": {
    "code_folding": [
     0
    ],
    "scrolled": true
   },
   "outputs": [],
   "source": [
    "#CODE\n",
    "close_connection()\n",
    "connection = mysql.connector.connect(host='172.96.191.12',database='blacklis_db2020',user=username,password=password)\n",
    "mycursor = connection.cursor()\n",
    "\n",
    "#Lastname\n",
    "TEXT = \"SELECT tb_report.report_id,tb_report.active, tb_report.first_name, tb_report.last_name, tb_report_bank.bank_number FROM tb_report JOIN tb_report_bank ON tb_report.report_id = tb_report_bank.report_id WHERE tb_report_bank.bank_number = \"+ str(x)\n",
    "\n",
    "mycursor.execute(TEXT)\n",
    "result = mycursor.fetchall()\n",
    "field_names = [i[0] for i in mycursor.description]\n",
    "df=pd.DataFrame(result, columns=field_names)\n",
    "# df_user.columns = ['report_id', 'user_id', 'username', 'facebook_id', 'first_name','last_name', 'email', 'phone_number', 'S_first_name', 'S_last_name']\n",
    "# df_user['seller name'] = df_user.iloc[:,-2] + \" \" + df_user.iloc[:,-1]\n",
    "# df_user.drop(['S_first_name','S_last_name'], axis=1, inplace = True)\n",
    "df"
   ]
  },
  {
   "cell_type": "code",
   "execution_count": null,
   "metadata": {
    "code_folding": [
     0
    ],
    "scrolled": true
   },
   "outputs": [],
   "source": [
    "# BEWARE : Correct seller name and detail based on report_id\n",
    "close_connection()\n",
    "connection = mysql.connector.connect(host='172.96.191.12',database='blacklis_db2020',user=username,password=password)\n",
    "mycursor = connection.cursor()\n",
    "\n",
    "for x in df['report_id']:\n",
    "    TEXT = \"UPDATE tb_report SET first_name = 'อชิรญาณ์' ,last_name = 'ฉ่ำช้าง' WHERE tb_report.report_id = \" + str(x)\n",
    "    TEXT\n",
    "    mycursor.execute(TEXT)\n",
    "    connection.commit()\n",
    "    \n",
    "    \n",
    "    TEXT2 = \"UPDATE tb_report SET detail_text = CONCAT(' ประกาศ!! ประสานงานกับตำรวจและพบบุคคลโกงตัวจริงแล้ว ชื่อ น.ส.อชิรญาณ์ ฉ่ำช้าง ยังเป็นเด็กนักเรียนจังหวัดชัยนาท พบว่ามีบชส่วนตัวคือ SCB เลข 6152323952 สาขาชัยนาท เบอร์โทร 0902920410 และที่ผ่านมาได้แอบอ้างคนชื่อปวีณา ให้ตกเป็นแพะรับบาปแทน ตอนนี้สาวถึงตัวคนโกงตัวจริงเรียบร้อย   | ', detail_text) WHERE tb_report.report_id = \" + str(x)\n",
    "    TEXT2\n",
    "    mycursor.execute(TEXT2)\n",
    "    connection.commit()\n"
   ]
  },
  {
   "cell_type": "markdown",
   "metadata": {},
   "source": [
    "##  ❌ Set report_active = 0"
   ]
  },
  {
   "cell_type": "code",
   "execution_count": null,
   "metadata": {},
   "outputs": [],
   "source": [
    "#  13091,13052,12827    มีใบถอนแจ้งความ clear with customer"
   ]
  },
  {
   "cell_type": "code",
   "execution_count": 15,
   "metadata": {
    "code_folding": [
     0
    ],
    "scrolled": false
   },
   "outputs": [
    {
     "name": "stdout",
     "output_type": "stream",
     "text": [
      "Report_ID to set active = 0 , input each report\n",
      "12827\n",
      "Special reason to delete?\n",
      " มีใบถอนแจ้งความ clear with customer\n",
      "UPDATE `tb_report` SET `active` = '0' WHERE `tb_report`.`report_id` = 12827\n"
     ]
    },
    {
     "data": {
      "text/plain": [
       "\"UPDATE tb_report SET detail_text = CONCAT('  มีใบถอนแจ้งความ clear with customer | ', detail_text) WHERE tb_report.report_id = 12827;\""
      ]
     },
     "execution_count": 15,
     "metadata": {},
     "output_type": "execute_result"
    }
   ],
   "source": [
    "#set active=0  [input each report]\n",
    "to_disable = \"\"\n",
    "print(\"Report_ID to set active = 0 , input each report\")\n",
    "to_disable = input()\n",
    "print(\"Special reason to delete?\")\n",
    "reason = \"\"\n",
    "reason = input() \n",
    "\n",
    "close_connection()\n",
    "connection = mysql.connector.connect(host='172.96.191.12',database='blacklis_db2020',user=username,password=password)\n",
    "mycursor = connection.cursor()\n",
    "\n",
    "TEXT = \"UPDATE `tb_report` SET `active` = '0' WHERE `tb_report`.`report_id` = \" + str(to_disable)\n",
    "\n",
    "print(TEXT)\n",
    "mycursor.execute(TEXT)\n",
    "connection.commit()\n",
    "\n",
    "TEXT = \"UPDATE tb_report SET detail_text = CONCAT(' \"+ reason + \" | ', detail_text) WHERE tb_report.report_id = \" + str(to_disable) +\";\"\n",
    "TEXT\n",
    "mycursor.execute(TEXT)\n",
    "connection.commit()         "
   ]
  },
  {
   "cell_type": "markdown",
   "metadata": {},
   "source": [
    "##  ✅  Set report_active = 1"
   ]
  },
  {
   "cell_type": "code",
   "execution_count": null,
   "metadata": {
    "code_folding": [
     0
    ]
   },
   "outputs": [],
   "source": [
    "#set active=1  [input each report]\n",
    "to_enable = \"\"\n",
    "print(\"Report_ID to set active = 1 , input each report\")\n",
    "to_enable = input() \n",
    "\n",
    "close_connection()\n",
    "connection = mysql.connector.connect(host='172.96.191.12',database='blacklis_db2020',user=username,password=password)\n",
    "mycursor = connection.cursor()\n",
    "\n",
    "TEXT = \"UPDATE `tb_report` SET `active` = '1' WHERE `tb_report`.`report_id` = \" + str(to_enable)\n",
    "\n",
    "print(TEXT)\n",
    "print(\"https://blacklistseller.com/report/report_preview/\" + str(to_enable))\n",
    "mycursor.execute(TEXT)\n",
    "connection.commit()\n"
   ]
  },
  {
   "cell_type": "markdown",
   "metadata": {},
   "source": [
    "## To display specific report pic details"
   ]
  },
  {
   "cell_type": "code",
   "execution_count": null,
   "metadata": {},
   "outputs": [],
   "source": [
    "to_display = 29320   #"
   ]
  },
  {
   "cell_type": "code",
   "execution_count": null,
   "metadata": {
    "code_folding": [
     0
    ],
    "scrolled": false
   },
   "outputs": [],
   "source": [
    "#Display Specific report pics\n",
    "\n",
    "#display name\n",
    "response = requests.get(\"https://www.blacklistseller.com/report/report_preview/\" + str(to_display))\n",
    "soup = BeautifulSoup(response.text, 'html.parser')\n",
    "linetoscreen = str(soup.findAll('a')[5])\n",
    "name = linetoscreen.split(\"</a>\")[0].split('>')[1]\n",
    "name\n",
    "\n",
    "list_of_report = file[(file['report_id'] == to_display) & (file['report_item_active'] == 1)]['report_item_filename'].values.tolist()\n",
    "print(f'Number of picture: {len(list_of_report)}')\n",
    "link=[]\n",
    "for x in list_of_report:\n",
    "    url = \"https://www.blacklistseller.com/assets/uploads/user_uploads_report/\" + x\n",
    "    link.append(url)\n",
    "\n",
    "split_by = round(len(link)/3)\n",
    "link1 = link[0:split_by]\n",
    "link2 = link[split_by:split_by*2]\n",
    "link3 = link[split_by*2:]\n",
    "sum_link = []\n",
    "sum_link.append(link1)\n",
    "sum_link.append(link2)\n",
    "sum_link.append(link3)\n",
    "\n",
    "for y in sum_link:    \n",
    "    x_offset = 0\n",
    "    new_im = Image.new('RGB', (width*len(y),height))\n",
    "    for x in y:\n",
    "        response = requests.get(x)\n",
    "\n",
    "        #img = Image.open(BytesIO(response.content))\n",
    "        #img = img.resize( (width , height), resample=0)\n",
    "        try:\n",
    "            img = Image.open(BytesIO(response.content))\n",
    "        except IOError:\n",
    "            #print '%s could not be opened' % imagepath\n",
    "            print(\"Could not opened\")\n",
    "\n",
    "        img = img.resize( (width , height), resample=0)\n",
    "\n",
    "        new_im.paste(img, (x_offset,0))\n",
    "        x_offset += width\n",
    "    new_im        \n",
    "    \n"
   ]
  },
  {
   "cell_type": "markdown",
   "metadata": {},
   "source": [
    "## DELETE [db] dup files in tb_report_item"
   ]
  },
  {
   "cell_type": "code",
   "execution_count": null,
   "metadata": {},
   "outputs": [],
   "source": [
    "#find dup file in database and remove (from database)\n",
    "\n",
    "# NEED TO FILTER FILE THAT IS A RECEIPT OUT\n",
    "connect_ftp()\n",
    "close_connection()\n",
    "connection = mysql.connector.connect(host='172.96.191.12',database='blacklis_db2020',user=username,password=password)\n",
    "mycursor = connection.cursor()\n",
    "\n",
    "#duplicatefile = file[file.duplicated(['report_item_filename'])]\n",
    "duplicatefile = file[file['report_item_filename'].duplicated(keep = 'last')]\n",
    "\n",
    "# bool_series = data[\"First Name\"].duplicated(keep = False) \n",
    "\n",
    "print(\"Number of duplicate list :\" + str(duplicatefile.shape[0]))\n",
    "\n",
    "report_item_id_todel = duplicatefile['report_item_id'].values.tolist()\n",
    "\n",
    "duplicatefile.tail()\n",
    "report_item_id_todel = report_item_id_todel[-5:]\n",
    "\n",
    "#remove report_item in database\n",
    "for x in report_item_id_todel:\n",
    "    TEXT = \"DELETE FROM tb_report_item WHERE tb_report_item.report_item_id = \" + str(x)\n",
    "    TEXT\n",
    "#     mycursor.execute(TEXT)\n",
    "#     connection.commit()"
   ]
  },
  {
   "cell_type": "code",
   "execution_count": null,
   "metadata": {
    "code_folding": [
     0
    ]
   },
   "outputs": [],
   "source": [
    "# file['report_item_filename'].duplicated()\n",
    "duplicatefile = file[file.duplicated(['report_item_filename'])]\n",
    "duplicatefile.shape\n",
    "duplicatefile\n",
    "# duplicateDFRow = dfObj[dfObj.duplicated(['Name'])]\n",
    "# print(duplicateDFRow)\n",
    "\n",
    "dupfile_to_del = duplicatefile['report_item_filename'].values.tolist()\n",
    "\n",
    "connect_ftp()\n",
    "close_connection()\n",
    "connection = mysql.connector.connect(host='172.96.191.12',database='blacklis_db2020',user=username,password=password)\n",
    "mycursor = connection.cursor()\n",
    "\n",
    "#delete files    \n",
    "for x in dupfile_to_del:    \n",
    "#     print(\"ftp.delete('\" + x + \"')\")            \n",
    "#     try:\n",
    "#         ftp.delete(x)\n",
    "#     except error_perm:\n",
    "#         print(\"!!  file already deleted\")\n",
    "       \n",
    "    #SQL command to del file in db\n",
    "    # # NEED NEW CODING        TEXT = \"DELETE FROM tb_report_item WHERE tb_report_item.report_id = \" + str(x)\n",
    "    TEXT\n",
    "    mycursor.execute(TEXT)\n",
    "    connection.commit()    \n",
    "\n",
    "    \n",
    "# SQL = \"\" #SQL code to delete dupfile  (NEED FIX)\n",
    "# for x in to_delete:\n",
    "#     TEXT = \"UPDATE tb_report SET active = 0 WHERE tb_report.report_id = \" + str(x)\n",
    "#     TEXT\n",
    "#     mycursor.execute(TEXT)\n",
    "#     connection.commit()\n",
    "\n",
    "#     #Delete db record\n",
    "#     TEXT = \"DELETE FROM tb_report_item WHERE tb_report_item.report_id = \" + str(x)\n",
    "#     TEXT\n",
    "#     mycursor.execute(TEXT)\n",
    "#     connection.commit()"
   ]
  },
  {
   "cell_type": "markdown",
   "metadata": {},
   "source": [
    "## Delete bank a/c where active = 0"
   ]
  },
  {
   "cell_type": "code",
   "execution_count": null,
   "metadata": {
    "code_folding": [
     0
    ]
   },
   "outputs": [],
   "source": [
    "# Execute command to delete inactive bank a/c\n",
    "connect_ftp()\n",
    "close_connection()\n",
    "connection = mysql.connector.connect(host='172.96.191.12',database='blacklis_db2020',user=username,password=password)\n",
    "mycursor = connection.cursor()\n",
    "\n",
    "TEXT = \"DELETE FROM tb_report_bank WHERE report_bank_active = 0\"\n",
    "TEXT\n",
    "mycursor.execute(TEXT)\n",
    "connection.commit()"
   ]
  },
  {
   "cell_type": "code",
   "execution_count": null,
   "metadata": {},
   "outputs": [],
   "source": []
  },
  {
   "cell_type": "code",
   "execution_count": null,
   "metadata": {},
   "outputs": [],
   "source": [
    "#Check and export tb_report_bank as backup\n",
    "\n",
    "close_connection()\n",
    "connection = mysql.connector.connect(host='172.96.191.12',database='blacklis_db2020',user=username,password=password)\n",
    "mycursor = connection.cursor()\n",
    "\n",
    "TEXT = \"SELECT * from tb_report_bank\"\n",
    "TEXT\n",
    "mycursor.execute(TEXT)\n",
    "result = mycursor.fetchall()\n",
    "field_names = [i[0] for i in mycursor.description]\n",
    "tb_report_bank = pd.DataFrame(result, columns=field_names)\n",
    "tb_report_bank.shape\n",
    "tb_report_bank.sample(20)\n",
    "\n",
    "#tb_report_bank.to_excel(\"tb_report_bank.xls\")"
   ]
  },
  {
   "cell_type": "code",
   "execution_count": null,
   "metadata": {},
   "outputs": [],
   "source": []
  },
  {
   "cell_type": "markdown",
   "metadata": {},
   "source": [
    "## ❌DELETE report pics + db"
   ]
  },
  {
   "cell_type": "code",
   "execution_count": 22,
   "metadata": {
    "code_folding": [
     0
    ],
    "scrolled": true
   },
   "outputs": [],
   "source": [
    "#PREPARE TB_REPORT for deleting report pics + db\n",
    "close_connection()\n",
    "connection = mysql.connector.connect(host='172.96.191.12',database='blacklis_db2020',user=username,password=password)\n",
    "mycursor = connection.cursor()\n",
    "\n",
    "mycursor.execute(\"select * from tb_report\")\n",
    "result = mycursor.fetchall()\n",
    "field_names = [i[0] for i in mycursor.description]  #Column name\n",
    "tb_report = pd.DataFrame(result, columns=field_names)\n",
    "\n",
    "#prepare tb_report\n",
    "df = tb_report[['report_id','first_name','last_name','idcard']]\n",
    "df['fullname'] = df['first_name']+ \" \" + df['last_name']\n",
    "\n",
    "#Create df_count with 4 freq\n",
    "df_count=pd.DataFrame(df['fullname'].value_counts()>=4)\n",
    "df_count= df_count[df_count['fullname'] == True]\n",
    "df_count.reset_index(inplace = True)\n",
    "df_count.drop('fullname', axis=1, inplace = True)\n",
    "df_count.rename(columns={'index':'fullname'}, inplace=True )"
   ]
  },
  {
   "cell_type": "code",
   "execution_count": 25,
   "metadata": {
    "code_folding": [
     0
    ],
    "scrolled": true
   },
   "outputs": [
    {
     "name": "stdout",
     "output_type": "stream",
     "text": [
      "Report ID: (delimiter with space)\n",
      " 32636  32637  \n",
      "ลบด้วยเหตุผลพิเศษ?\n",
      "duplicate report\n",
      "Type anything to override freq name check? \n",
      "d\n",
      "Report that will not deleted due to multiple report already:--> []\n",
      "\n",
      "\n",
      "List of report_id to delete ['32636', '32637']\n",
      "\n",
      "\n",
      "=========================\n",
      "ftp.delete('[32636]_inbound7752608312937997486.jpg')\n"
     ]
    },
    {
     "data": {
      "text/plain": [
       "'250 Deleted [32636]_inbound7752608312937997486.jpg'"
      ]
     },
     "execution_count": 25,
     "metadata": {},
     "output_type": "execute_result"
    },
    {
     "name": "stdout",
     "output_type": "stream",
     "text": [
      "ftp.delete('[32636]_inbound7096309856478527540.jpg')\n"
     ]
    },
    {
     "data": {
      "text/plain": [
       "'250 Deleted [32636]_inbound7096309856478527540.jpg'"
      ]
     },
     "execution_count": 25,
     "metadata": {},
     "output_type": "execute_result"
    },
    {
     "name": "stdout",
     "output_type": "stream",
     "text": [
      "ftp.delete('[32636]_inbound3199611230312922532.jpg')\n"
     ]
    },
    {
     "data": {
      "text/plain": [
       "'250 Deleted [32636]_inbound3199611230312922532.jpg'"
      ]
     },
     "execution_count": 25,
     "metadata": {},
     "output_type": "execute_result"
    },
    {
     "name": "stdout",
     "output_type": "stream",
     "text": [
      "ftp.delete('[32636]_inbound417253871393182753.jpg')\n"
     ]
    },
    {
     "data": {
      "text/plain": [
       "'250 Deleted [32636]_inbound417253871393182753.jpg'"
      ]
     },
     "execution_count": 25,
     "metadata": {},
     "output_type": "execute_result"
    },
    {
     "name": "stdout",
     "output_type": "stream",
     "text": [
      "ftp.delete('[32636]_inbound751355518298102864.jpg')\n"
     ]
    },
    {
     "data": {
      "text/plain": [
       "'250 Deleted [32636]_inbound751355518298102864.jpg'"
      ]
     },
     "execution_count": 25,
     "metadata": {},
     "output_type": "execute_result"
    },
    {
     "name": "stdout",
     "output_type": "stream",
     "text": [
      "ftp.delete('[32636]_inbound593777706710105579.jpg')\n"
     ]
    },
    {
     "data": {
      "text/plain": [
       "'250 Deleted [32636]_inbound593777706710105579.jpg'"
      ]
     },
     "execution_count": 25,
     "metadata": {},
     "output_type": "execute_result"
    },
    {
     "name": "stdout",
     "output_type": "stream",
     "text": [
      "ftp.delete('[32636]_inbound476766689627419256.jpg')\n"
     ]
    },
    {
     "data": {
      "text/plain": [
       "'250 Deleted [32636]_inbound476766689627419256.jpg'"
      ]
     },
     "execution_count": 25,
     "metadata": {},
     "output_type": "execute_result"
    },
    {
     "name": "stdout",
     "output_type": "stream",
     "text": [
      "ftp.delete('[32637]_inbound7752608312937997486.jpg')\n"
     ]
    },
    {
     "data": {
      "text/plain": [
       "'250 Deleted [32637]_inbound7752608312937997486.jpg'"
      ]
     },
     "execution_count": 25,
     "metadata": {},
     "output_type": "execute_result"
    },
    {
     "name": "stdout",
     "output_type": "stream",
     "text": [
      "ftp.delete('[32637]_inbound7096309856478527540.jpg')\n"
     ]
    },
    {
     "data": {
      "text/plain": [
       "'250 Deleted [32637]_inbound7096309856478527540.jpg'"
      ]
     },
     "execution_count": 25,
     "metadata": {},
     "output_type": "execute_result"
    },
    {
     "name": "stdout",
     "output_type": "stream",
     "text": [
      "ftp.delete('[32637]_inbound3199611230312922532.jpg')\n"
     ]
    },
    {
     "data": {
      "text/plain": [
       "'250 Deleted [32637]_inbound3199611230312922532.jpg'"
      ]
     },
     "execution_count": 25,
     "metadata": {},
     "output_type": "execute_result"
    },
    {
     "name": "stdout",
     "output_type": "stream",
     "text": [
      "ftp.delete('[32637]_inbound417253871393182753.jpg')\n"
     ]
    },
    {
     "data": {
      "text/plain": [
       "'250 Deleted [32637]_inbound417253871393182753.jpg'"
      ]
     },
     "execution_count": 25,
     "metadata": {},
     "output_type": "execute_result"
    },
    {
     "name": "stdout",
     "output_type": "stream",
     "text": [
      "ftp.delete('[32637]_inbound751355518298102864.jpg')\n"
     ]
    },
    {
     "data": {
      "text/plain": [
       "'250 Deleted [32637]_inbound751355518298102864.jpg'"
      ]
     },
     "execution_count": 25,
     "metadata": {},
     "output_type": "execute_result"
    },
    {
     "name": "stdout",
     "output_type": "stream",
     "text": [
      "ftp.delete('[32637]_inbound593777706710105579.jpg')\n"
     ]
    },
    {
     "data": {
      "text/plain": [
       "'250 Deleted [32637]_inbound593777706710105579.jpg'"
      ]
     },
     "execution_count": 25,
     "metadata": {},
     "output_type": "execute_result"
    },
    {
     "name": "stdout",
     "output_type": "stream",
     "text": [
      "ftp.delete('[32637]_inbound476766689627419256.jpg')\n"
     ]
    },
    {
     "data": {
      "text/plain": [
       "'250 Deleted [32637]_inbound476766689627419256.jpg'"
      ]
     },
     "execution_count": 25,
     "metadata": {},
     "output_type": "execute_result"
    },
    {
     "data": {
      "text/plain": [
       "'UPDATE tb_report SET active = 0 WHERE tb_report.report_id = 32636'"
      ]
     },
     "execution_count": 25,
     "metadata": {},
     "output_type": "execute_result"
    },
    {
     "data": {
      "text/plain": [
       "'DELETE FROM tb_report_item WHERE tb_report_item.report_id = 32636'"
      ]
     },
     "execution_count": 25,
     "metadata": {},
     "output_type": "execute_result"
    },
    {
     "data": {
      "text/plain": [
       "\"UPDATE tb_report SET detail_text = CONCAT(' duplicate report | ', detail_text) WHERE `tb_report`.`report_id` = 32636;\""
      ]
     },
     "execution_count": 25,
     "metadata": {},
     "output_type": "execute_result"
    },
    {
     "data": {
      "text/plain": [
       "'UPDATE tb_report SET active = 0 WHERE tb_report.report_id = 32637'"
      ]
     },
     "execution_count": 25,
     "metadata": {},
     "output_type": "execute_result"
    },
    {
     "data": {
      "text/plain": [
       "'DELETE FROM tb_report_item WHERE tb_report_item.report_id = 32637'"
      ]
     },
     "execution_count": 25,
     "metadata": {},
     "output_type": "execute_result"
    },
    {
     "data": {
      "text/plain": [
       "\"UPDATE tb_report SET detail_text = CONCAT(' duplicate report | ', detail_text) WHERE `tb_report`.`report_id` = 32637;\""
      ]
     },
     "execution_count": 25,
     "metadata": {},
     "output_type": "execute_result"
    },
    {
     "data": {
      "text/html": [
       "\n",
       "                <audio  controls=\"controls\" autoplay=\"autoplay\">\n",
       "                    <source src=\"http://www.soundjay.com/button/beep-07.wav\" type=\"audio/wav\" />\n",
       "                    Your browser does not support the audio element.\n",
       "                </audio>\n",
       "              "
      ],
      "text/plain": [
       "<IPython.lib.display.Audio object>"
      ]
     },
     "metadata": {},
     "output_type": "display_data"
    }
   ],
   "source": [
    "#DELETE report pics & db\n",
    "connect_ftp()\n",
    "close_connection()\n",
    "connection = mysql.connector.connect(host='172.96.191.12',database='blacklis_db2020',user=username,password=password)\n",
    "mycursor = connection.cursor()\n",
    "\n",
    "to_delete = \"\"\n",
    "reason = \"\"\n",
    "name=\"\"\n",
    "override = \"\"\n",
    "\n",
    "print(\"Report ID: (delimiter with space)\")\n",
    "to_delete = input()\n",
    "to_delete = to_delete.split()\n",
    "print(\"ลบด้วยเหตุผลพิเศษ?\")\n",
    "reason = input()\n",
    "\n",
    "print(\"Type anything to override freq name check? \")\n",
    "override = input()\n",
    "\n",
    "#Check freq of fullname and remove if feq name in report already\n",
    "report_tonot_delete = []\n",
    "\n",
    "if override == \"\":    \n",
    "    for x in to_delete:\n",
    "        name = df[df['report_id']==int(x)].iloc[0,4]\n",
    "        if name in df_count.values:\n",
    "            to_delete.remove(x)\n",
    "            report_tonot_delete.append(x)            \n",
    "        \n",
    "print(f'Report that will not deleted due to multiple report already:--> {report_tonot_delete}')\n",
    "print(\"\\n\")\n",
    "print(\"List of report_id to delete \" + str(to_delete))\n",
    "print(\"\\n\")\n",
    "print(\"=========================\")\n",
    "\n",
    "df_prepare_to_del = file[(file['report_id'].isin(to_delete))]\n",
    "file_to_del = df_prepare_to_del['report_item_filename'].values.tolist()\n",
    "    \n",
    "#delete files    \n",
    "for x in file_to_del:    \n",
    "    print(\"ftp.delete('\" + x + \"')\")            \n",
    "    try:\n",
    "        ftp.delete(x)\n",
    "    except error_perm:\n",
    "        print(\"!!  file already deleted\")\n",
    "    \n",
    "SQL = \"\" #SQL code to delete report\n",
    "for x in to_delete:\n",
    "    TEXT = \"UPDATE tb_report SET active = 0 WHERE tb_report.report_id = \" + str(x)\n",
    "    TEXT\n",
    "    mycursor.execute(TEXT)\n",
    "    connection.commit()\n",
    "\n",
    "    #Delete db record\n",
    "    TEXT = \"DELETE FROM tb_report_item WHERE tb_report_item.report_id = \" + str(x)\n",
    "    TEXT\n",
    "    mycursor.execute(TEXT)\n",
    "    connection.commit()\n",
    "    \n",
    "    #Add detail text\n",
    "    if reason == \"\":\n",
    "        TEXT = \"UPDATE tb_report SET detail_text = CONCAT(' !รายงานถูกลบเนื่องจากรายละเอียดไม่เพียงพอ! | ', detail_text) WHERE `tb_report`.`report_id` = \" + str(x) +\";\"\n",
    "        TEXT\n",
    "        mycursor.execute(TEXT)\n",
    "        connection.commit()\n",
    "    else:\n",
    "        TEXT = \"UPDATE tb_report SET detail_text = CONCAT(' \"+ str(reason)+ \" | ', detail_text) WHERE `tb_report`.`report_id` = \" + str(x) +\";\"\n",
    "        TEXT\n",
    "        mycursor.execute(TEXT)\n",
    "        connection.commit()            \n",
    "        \n",
    "alldone()"
   ]
  },
  {
   "cell_type": "markdown",
   "metadata": {},
   "source": [
    "## DELETE specific pic by filename"
   ]
  },
  {
   "cell_type": "code",
   "execution_count": null,
   "metadata": {
    "code_folding": [
     0
    ]
   },
   "outputs": [],
   "source": [
    "#input file URL link\n",
    "print(\"URL Link?\")\n",
    "url_link = input()\n",
    "to_delete = url_link.split(\"/\")[6]\n",
    "to_delete "
   ]
  },
  {
   "cell_type": "code",
   "execution_count": null,
   "metadata": {
    "code_folding": [
     0
    ],
    "scrolled": true
   },
   "outputs": [],
   "source": [
    "#Delete specific file name\n",
    "\n",
    "connect_ftp()\n",
    "close_connection()\n",
    "connection = mysql.connector.connect(host='172.96.191.12',database='blacklis_db2020',user=username,password=password)\n",
    "mycursor = connection.cursor()\n",
    "\n",
    "#to_delete = input()\n",
    "\n",
    "try:\n",
    "    ftp.delete(to_delete)\n",
    "except error_perm:\n",
    "    print(\"!!  file already deleted\")\n",
    "    \n",
    "TEXT = \"DELETE FROM tb_report_item WHERE tb_report_item.report_item_filename = '\" + to_delete +\"'\"\n",
    "TEXT\n",
    "mycursor.execute(TEXT)\n",
    "connection.commit()\n",
    "\n",
    "URL = \"https://www.blacklistseller.com/assets/uploads/user_uploads_report/\" + to_delete + \"\\n\"\n",
    "print(\"-------------------------------------------------------------\")\n",
    "print(URL)\n"
   ]
  },
  {
   "cell_type": "code",
   "execution_count": null,
   "metadata": {
    "code_folding": [
     0
    ]
   },
   "outputs": [],
   "source": [
    "#Delete specific file name  (previous code that need to specify filename)\n",
    "to_delete = \"[28366]_B563641E-225B-49B5-B613-604D81DE05CE.png\"\n",
    "\n",
    "connect_ftp()\n",
    "close_connection()\n",
    "connection = mysql.connector.connect(host='172.96.191.12',database='blacklis_db2020',user=username,password=password)\n",
    "mycursor = connection.cursor()\n",
    "\n",
    "#to_delete = input()\n",
    "\n",
    "try:\n",
    "    ftp.delete(to_delete)\n",
    "except error_perm:\n",
    "    print(\"!!  file already deleted\")\n",
    "    \n",
    "TEXT = \"DELETE FROM tb_report_item WHERE tb_report_item.report_item_filename = '\" + to_delete +\"'\"\n",
    "TEXT\n",
    "mycursor.execute(TEXT)\n",
    "connection.commit()\n",
    "\n",
    "URL = \"https://www.blacklistseller.com/assets/uploads/user_uploads_report/\" + to_delete + \"\\n\"\n",
    "print(\"Purge with this link: https://dash.cloudflare.com/c81feeb849b00238ef4140da5642bbbd/blacklistseller.com/caching\\n\")\n",
    "print(URL)\n",
    "print(\"https://www.blacklistseller.com/report/report_preview/\" + str(x[1:6]))\n"
   ]
  },
  {
   "cell_type": "markdown",
   "metadata": {},
   "source": [
    "## Fuzzywuzzy : Finding wrong name"
   ]
  },
  {
   "cell_type": "code",
   "execution_count": null,
   "metadata": {
    "code_folding": [
     0
    ],
    "scrolled": true
   },
   "outputs": [],
   "source": [
    "#clean report for fuzzywuzzy\n",
    "close_connection()\n",
    "connection = mysql.connector.connect(host='172.96.191.12',database='blacklis_db2020',user=username,password=password)\n",
    "mycursor = connection.cursor()\n",
    "\n",
    "mycursor.execute(\"select * from tb_report\")\n",
    "result = mycursor.fetchall()\n",
    "field_names = [i[0] for i in mycursor.description]  #Column name\n",
    "tb_report = pd.DataFrame(result, columns=field_names)\n",
    "\n",
    "df = tb_report[['report_id','first_name','last_name','idcard']]\n",
    "df['fullname'] = df['first_name']+ \" \" + df['last_name']"
   ]
  },
  {
   "cell_type": "markdown",
   "metadata": {},
   "source": [
    "### Fuzzywuzzy : detect wrong name"
   ]
  },
  {
   "cell_type": "code",
   "execution_count": null,
   "metadata": {
    "code_folding": [
     0
    ],
    "scrolled": false
   },
   "outputs": [],
   "source": [
    "#Prepare df for Fuzzywuzzy\n",
    "from fuzzywuzzy import fuzz\n",
    "df_master=df['fullname'].value_counts()\n",
    "df_master = df_master[df_master >= 3]\n",
    "df_master.tail()\n",
    "df_master = pd.DataFrame(df_master)\n",
    "df_master.rename({'fullname':'count'}, inplace=True )\n",
    "df_master['fullname'] = df_master.index\n",
    "df_master.reset_index(level=0, inplace=True)\n",
    "df_master.drop('index', axis=1, inplace = True)\n",
    "df_to_clean = df[~df.fullname.isin(df_master.fullname)]\n",
    "print('List of Master name : ', df_master.shape[0])\n",
    "print('Df to be cleaned : ',df_to_clean.shape[0])"
   ]
  },
  {
   "cell_type": "markdown",
   "metadata": {},
   "source": [
    "### Start using Fuzzy"
   ]
  },
  {
   "cell_type": "code",
   "execution_count": null,
   "metadata": {
    "code_folding": [
     0
    ],
    "scrolled": false
   },
   "outputs": [],
   "source": [
    "#Start executing Fuzzywuzzy\n",
    "start_time = time.time()\n",
    "i=1\n",
    "SQL = \"\"\n",
    "SQL_to_txt = \"\"\n",
    "explain=\"\"\n",
    "for index, row in df_to_clean.iterrows():\n",
    "    for y in df_master['fullname']:\n",
    "        score = fuzz.ratio(row['fullname'],y)\n",
    "        if ( score >= 85) and ( score != 100):\n",
    "            name = y.split()\n",
    "            TEXT = \"UPDATE tb_report SET first_name ='\"+name[0]+\"',\"+\"last_name = '\"+name[1]+\"'\"+\" WHERE tb_report.report_id = \"+str(row['report_id'])+\";!\"\n",
    "            TEXT\n",
    "            SQL=SQL+TEXT\n",
    "            print(i, \"Report ID :\", row['report_id'],\" |  Score:\",score,\"  \\nผิด --> \",row['fullname'],\"  \\nถูก --> \",y,\"\\n\")\n",
    "            explain = \"# \"+str(i)+ \" Report ID : \"+ str(row['report_id'])+\" | Score:\"+str(score) + \"  ผิด --> \" + str(row['fullname'])+\"|  ถูก --> \" + str(y) +\" \\n\\n\"                    \n",
    "            SQL_to_txt = SQL_to_txt + TEXT + explain\n",
    "            i+=1\n",
    "            \n",
    "alldone()\n",
    "print(round((time.time() - start_time)/60,2), \" minutes running time\")"
   ]
  },
  {
   "cell_type": "code",
   "execution_count": null,
   "metadata": {
    "code_folding": [],
    "scrolled": true
   },
   "outputs": [],
   "source": [
    "%%capture\n",
    "#Write Fuzzy Result  to textfile\n",
    "d = datetime.datetime.today().strftime(\"%d-%B-%Y\")\n",
    "sql_changename_filename = \"sql_changename-\" + str(d) + \".txt\"\n",
    "sql_changename_filename\n",
    "\n",
    "SQL_list = SQL_to_txt.split('!')\n",
    "text_file = open(sql_changename_filename, encoding=\"utf-8\", mode=\"w\")\n",
    "for x in SQL_list:\n",
    "    text_file.write(x + \"\\n\")\n",
    "#text_file.write(SQL)\n",
    "text_file.close()"
   ]
  },
  {
   "cell_type": "markdown",
   "metadata": {},
   "source": [
    "### Execute SQL command to fix wrong name"
   ]
  },
  {
   "cell_type": "code",
   "execution_count": null,
   "metadata": {
    "scrolled": true
   },
   "outputs": [],
   "source": [
    "# #Without Confirmation!!   (under coding fix)\n",
    "# connection = mysql.connector.connect(host='172.96.191.12',database='blacklis_db2020',user=username,password=password)\n",
    "# mycursor = connection.cursor()\n",
    "\n",
    "# SQL_list = SQL.split('!')\n",
    "# #SQL_list\n",
    "# for x in SQL_list:\n",
    "#     x\n",
    "#     mycursor.execute(x)\n",
    "#     connection.commit()"
   ]
  },
  {
   "cell_type": "code",
   "execution_count": null,
   "metadata": {
    "code_folding": [
     0
    ],
    "scrolled": true
   },
   "outputs": [],
   "source": [
    "#With Confimration [ DO NOT RUN ]\n",
    "\n",
    "# connection = mysql.connector.connect(host='172.96.191.12',database='blacklis_db2020',user=username,password=password)\n",
    "# mycursor = connection.cursor()\n",
    "\n",
    "# SQL_list = SQL.split('!')\n",
    "# #SQL_list\n",
    "# for x in SQL_list:\n",
    "#     cancel = \"\"\n",
    "#     x\n",
    "#     print(\"enter to exec / key anything to cancel :\")\n",
    "#     cancel = input()\n",
    "#     if cancel == \"\":    \n",
    "#         mycursor.execute(x)\n",
    "#         connection.commit()\n",
    "#     else:\n",
    "#         print('Skip replacing name')"
   ]
  },
  {
   "cell_type": "markdown",
   "metadata": {},
   "source": [
    "## 💻 Filling missing idcard"
   ]
  },
  {
   "cell_type": "code",
   "execution_count": null,
   "metadata": {
    "code_folding": [
     0
    ],
    "scrolled": false
   },
   "outputs": [],
   "source": [
    "# Prepare tb_report and clean\n",
    "close_connection()\n",
    "connection = mysql.connector.connect(host='172.96.191.12',database='blacklis_db2020',user=username,password=password)\n",
    "mycursor = connection.cursor()\n",
    "\n",
    "mycursor.execute(\"select * from tb_report\")\n",
    "result = mycursor.fetchall()\n",
    "field_names = [i[0] for i in mycursor.description]  #Column name\n",
    "tb_report = pd.DataFrame(result, columns=field_names)\n",
    "\n",
    "df = tb_report[['report_id','first_name','last_name','idcard']]\n",
    "df['fullname'] = df['first_name']+ \" \" + df['last_name']\n",
    "\n",
    "df_master=df['idcard'].value_counts()\n",
    "df_master = df_master[df_master >= 3]\n",
    "df_master.tail()\n",
    "print(\"Total unique in master file =\",len(df_master))\n",
    "df_master = pd.DataFrame(df_master,index=None)\n",
    "\n",
    "df_master['idcard1'] = df_master.index\n",
    "df_master['count'] = df_master['idcard']\n",
    "df_master.drop('idcard', axis=1, inplace = True)\n",
    "df_master.reset_index(level=0, inplace=True)\n",
    "df_master.drop('index', axis=1, inplace = True)\n",
    "df_master.rename(columns={'idcard1':'idcard'}, inplace=True )\n",
    "df_master = pd.merge(df_master, df, left_on='idcard', right_on='idcard', how = 'left')\n",
    "df_master = df_master[['idcard','count','fullname']]\n",
    "df_master.drop_duplicates(subset =\"idcard\", keep = 'first', inplace = True) \n",
    "\n",
    "df_master=df_master.drop(df_master.index[0])  #drop null idcard in master file\n",
    "df_master.head()\n",
    "\n",
    "print(color.bold + \"Check incorrect idcard from master db\\n\"+color.end)\n",
    "\n",
    "# for x in df_master.idcard:\n",
    "#     if checkPID(x) == False:\n",
    "#         x\n",
    "    \n",
    "for index, row in df_master.iterrows():\n",
    "    if checkPID(row.idcard) == False:\n",
    "        print(f'National id: {row.idcard} | Name: {row.fullname}')        \n",
    "        #print(f'Report id:{index} | National id: {row.idcard} | Name: {row.fullname}')        \n",
    "print(color.cyan + '\\nFinished !' + color.end)\n",
    "\n",
    "df_to_clean = df[~df['idcard'].isin(df_master['idcard'])]\n",
    "#df_to_clean['id_card'].sort_values().head(100)\n",
    "print(f'Total in df: {df.shape[0]}')\n",
    "print(f'Total in master file: {df_master.shape[0]}')\n",
    "print(f'Total in df_to_clean: {df_to_clean.shape[0]}')\n",
    "df_to_clean.drop('idcard', axis=1, inplace = True)\n",
    "\n",
    "df_filled = pd.merge(df_to_clean, df_master,on='fullname', how='inner')\n",
    "print(f'Total to be fixed: {df_filled.shape[0]}')\n",
    "df_filled['idcard']=df_filled['idcard'].astype('uint64')\n",
    "\n",
    "# checkPID(str(1102000866732))\n",
    "\n",
    "# Check & Prepare idcard matching\n",
    "\n",
    "i=0\n",
    "TEXT=\"\"\n",
    "SQL=\"\"\n",
    "for index, row in df_filled.iterrows():   \n",
    "    TEXT = \"UPDATE tb_report SET idcard = \" + str(row['idcard']) + \" WHERE tb_report.report_id = \"+ str(row['report_id']) +\";#\"\n",
    "    SQL+=str(TEXT)\n",
    "    \n",
    "SQL_list = SQL.split('#')\n",
    "print(f'Number of report to fix idcard : {len(SQL_list)}')\n",
    "SQL_list"
   ]
  },
  {
   "cell_type": "markdown",
   "metadata": {},
   "source": [
    "### Execute command to fix id card"
   ]
  },
  {
   "cell_type": "code",
   "execution_count": null,
   "metadata": {
    "code_folding": [
     0
    ],
    "scrolled": true
   },
   "outputs": [],
   "source": [
    "#Execute command\n",
    "close_connection()\n",
    "connection = mysql.connector.connect(host='172.96.191.12',database='blacklis_db2020',user=username,password=password)\n",
    "mycursor = connection.cursor()\n",
    "for x in SQL_list:\n",
    "    mycursor.execute(x)\n",
    "    x\n",
    "    connection.commit()    "
   ]
  },
  {
   "cell_type": "markdown",
   "metadata": {},
   "source": [
    "### Find duplicate bank A/C & delete duplicate bank A/C"
   ]
  },
  {
   "cell_type": "code",
   "execution_count": null,
   "metadata": {
    "code_folding": [
     0
    ]
   },
   "outputs": [],
   "source": [
    "#Find duplicate bank A/C & delete duplicate bank A/C\n",
    "close_connection()\n",
    "connection = mysql.connector.connect(host='172.96.191.12',database='blacklis_db2020',user=username,password=password)\n",
    "mycursor = connection.cursor()\n",
    "# Delete inactive report_bank\n",
    "mycursor.execute(\"DELETE FROM tb_report_bank WHERE report_bank_active = 0\")\n",
    "# Fetch table\n",
    "mycursor.execute(\"SELECT * FROM tb_report_bank\")\n",
    "result = mycursor.fetchall()\n",
    "field_names = [i[0] for i in mycursor.description]  #Column name\n",
    "tb_report_bank = pd.DataFrame(result, columns=field_names)\n",
    "#tb_report_bank.head()\n",
    "print(\"Display duplicate row\")\n",
    "dup = tb_report_bank[tb_report_bank.duplicated(subset=['bank_id','bank_number','report_id','report_bank_active'])]\n",
    "#dup = tb_report_bank[tb_report_bank.duplicated(subset=['bank_number','report_id','report_bank_active'])]\n",
    "dup.shape[0]\n",
    "dup\n",
    "\n",
    "#Execute command to delete duplicate bank A/C\n",
    "close_connection()\n",
    "connection = mysql.connector.connect(host='172.96.191.12',database='blacklis_db2020',user=username,password=password)\n",
    "mycursor = connection.cursor()\n",
    "\n",
    "TEXT = \"\"\n",
    "for index, row in dup.iterrows():\n",
    "    TEXT = \"DELETE FROM tb_report_bank WHERE report_bank_id = \" + str(row['report_bank_id'])\n",
    "    TEXT\n",
    "    mycursor.execute(TEXT)\n",
    "    connection.commit()"
   ]
  },
  {
   "cell_type": "markdown",
   "metadata": {},
   "source": [
    "### FIX \\u200b, แ "
   ]
  },
  {
   "cell_type": "code",
   "execution_count": null,
   "metadata": {
    "code_folding": [
     0
    ]
   },
   "outputs": [],
   "source": [
    "#PREPARE TB_REPORT\n",
    "close_connection()\n",
    "connection = mysql.connector.connect(host='172.96.191.12',database='blacklis_db2020',user=username,password=password)\n",
    "mycursor = connection.cursor()\n",
    "\n",
    "mycursor.execute(\"select * from tb_report\")\n",
    "result = mycursor.fetchall()\n",
    "field_names = [i[0] for i in mycursor.description]  #Column name\n",
    "tb_report = pd.DataFrame(result, columns=field_names)\n",
    "\n",
    "#prepare tb_report\n",
    "df = tb_report[['report_id','first_name','last_name','idcard','product', 'price', 'website', 'detail_text', 'date', 'active']]\n",
    "df['fullname'] = df['first_name']+ \" \" + df['last_name']\n",
    "df = df[['report_id','first_name','last_name','fullname','idcard','product','price','detail_text','website','date','active']]\n",
    "df = df.set_index(['report_id'])"
   ]
  },
  {
   "cell_type": "code",
   "execution_count": null,
   "metadata": {
    "code_folding": [
     0
    ]
   },
   "outputs": [],
   "source": [
    "#Prepare multiple df filtering แ and \\u200b\n",
    "df1 = df[df['first_name'].str.contains(\"\\u200b\")]\n",
    "df1['first_name'] =df1['first_name'].str.replace('\\u200b', '')\n",
    "\n",
    "df2 = df[df['last_name'].str.contains(\"\\u200b\")]\n",
    "df2['last_name'] =df2['last_name'].str.replace('\\u200b', '')\n",
    "\n",
    "print(\"FIX u200b\")\n",
    "print(\"First name to fix : \" + str(len(df1))+\"  |  Last name to fix : \" + str(len(df2)))\n",
    "\n",
    "#Prepare to fix แ เ เ \n",
    "df11 = df[df['first_name'].str.contains(\"เเ\")]\n",
    "df11['first_name'] =df11['first_name'].str.replace('เเ', 'แ')\n",
    "\n",
    "df22 = df[df['last_name'].str.contains(\"เเ\")]\n",
    "df22['last_name'] =df22['last_name'].str.replace('เเ', 'แ')\n",
    "\n",
    "print(\"\\nFIX แ\")\n",
    "print(\"First name to fix : \" + str(len(df11))+\"  |  Last name to fix : \" + str(len(df22)))"
   ]
  },
  {
   "cell_type": "code",
   "execution_count": null,
   "metadata": {
    "code_folding": [
     0
    ]
   },
   "outputs": [],
   "source": [
    "#Execute command to remove \\u200b\n",
    "close_connection()\n",
    "connection = mysql.connector.connect(host='172.96.191.12',database='blacklis_db2020',user=username,password=password)\n",
    "mycursor = connection.cursor()\n",
    "\n",
    "print(\"Start fixing u200b\")\n",
    "#Fix firstname \\u200b\n",
    "for index, row in df1.iterrows():  \n",
    "    \n",
    "    x = \"UPDATE tb_report SET first_name ='\"+ str(row['first_name']) + \"' WHERE tb_report.report_id = \"+ str(index)\n",
    "    x\n",
    "    mycursor.execute(x)\n",
    "    connection.commit()\n",
    "\n",
    "#Fix lastname \\u200b\n",
    "for index, row in df2.iterrows():  \n",
    "    \n",
    "    x = \"UPDATE tb_report SET last_name ='\"+ str(row['last_name']) + \"' WHERE tb_report.report_id = \"+ str(index)\n",
    "    x\n",
    "    mycursor.execute(x)\n",
    "    connection.commit()    \n",
    "\n",
    "print(\"Start fixing แ\\n\")\n",
    "#Fix firstname แ\n",
    "for index, row in df11.iterrows():  \n",
    "    \n",
    "    x = \"UPDATE tb_report SET first_name ='\"+ str(row['first_name']) + \"' WHERE tb_report.report_id = \"+ str(index)\n",
    "    x\n",
    "    mycursor.execute(x)\n",
    "    connection.commit()\n",
    "\n",
    "#Fix lastname แ\n",
    "for index, row in df22.iterrows():  \n",
    "    \n",
    "    x = \"UPDATE tb_report SET last_name ='\"+ str(row['last_name']) + \"' WHERE tb_report.report_id = \"+ str(index)\n",
    "    x\n",
    "    mycursor.execute(x)\n",
    "    connection.commit()  "
   ]
  },
  {
   "cell_type": "markdown",
   "metadata": {},
   "source": [
    "### Filter report  by product"
   ]
  },
  {
   "cell_type": "code",
   "execution_count": null,
   "metadata": {
    "code_folding": [
     0
    ]
   },
   "outputs": [],
   "source": [
    "#PREPARE TB_REPORT\n",
    "close_connection()\n",
    "connection = mysql.connector.connect(host='172.96.191.12',database='blacklis_db2020',user=username,password=password)\n",
    "mycursor = connection.cursor()\n",
    "\n",
    "mycursor.execute(\"select * from tb_report\")\n",
    "result = mycursor.fetchall()\n",
    "field_names = [i[0] for i in mycursor.description]  #Column name\n",
    "tb_report = pd.DataFrame(result, columns=field_names)\n",
    "\n",
    "#prepare tb_report\n",
    "df = tb_report[['report_id','first_name','last_name','idcard','product', 'price', 'website', 'detail_text', 'date', 'active']]\n",
    "df['fullname'] = df['first_name']+ \" \" + df['last_name']\n",
    "df = df[['report_id','first_name','last_name','fullname','idcard','product','price','detail_text','website','date','active']]\n",
    "df = df.set_index(['report_id'])"
   ]
  },
  {
   "cell_type": "code",
   "execution_count": null,
   "metadata": {},
   "outputs": [],
   "source": [
    "# filter_df = df[(df['product'].str.contains('หน้ากาก')) | (df['product'].str.contains('mask')) |\n",
    "#                (df['product'].str.contains('แมส')) | (df['product'].str.contains('ผ้าปิดจมูก')) | \n",
    "#                (df['product'].str.contains('ผ้าปิดปาก')) | (df['product'].str.contains('N95'))   ]\n",
    "\n",
    "filter_df = df[(df['product'].str.contains('ที่นอน')) | (df['product'].str.contains('ยางพารา'))  ]\n",
    "\n",
    "filter_df = filter_df.drop_duplicates('detail_text')\n",
    "filter_df.shape[0]\n",
    "filter_df = filter_df.groupby('fullname').count().sort_values(by='active', ascending = False)\n",
    "filter_df.iloc[0:15]\n",
    "# filter_df.iloc[15:30]"
   ]
  },
  {
   "cell_type": "code",
   "execution_count": null,
   "metadata": {},
   "outputs": [],
   "source": []
  },
  {
   "cell_type": "code",
   "execution_count": null,
   "metadata": {},
   "outputs": [],
   "source": []
  },
  {
   "cell_type": "markdown",
   "metadata": {},
   "source": [
    "### Find mismatch by bank number  (need to delete duplicate bank first)"
   ]
  },
  {
   "cell_type": "code",
   "execution_count": null,
   "metadata": {
    "code_folding": [
     0
    ],
    "scrolled": true
   },
   "outputs": [],
   "source": [
    "# Prepare tb_report\n",
    "close_connection()\n",
    "connection = mysql.connector.connect(host='172.96.191.12',database='blacklis_db2020',user=username,password=password)\n",
    "mycursor = connection.cursor()\n",
    "\n",
    "mycursor.execute(\"select * from tb_report\")\n",
    "result = mycursor.fetchall()\n",
    "field_names = [i[0] for i in mycursor.description]  #Column name\n",
    "tb_report = pd.DataFrame(result, columns=field_names)\n",
    "\n",
    "df = tb_report[['report_id','first_name','last_name','idcard']]\n",
    "df['fullname'] = df['first_name']+ \" \" + df['last_name']"
   ]
  },
  {
   "cell_type": "code",
   "execution_count": null,
   "metadata": {
    "code_folding": [
     0
    ],
    "scrolled": true
   },
   "outputs": [],
   "source": [
    "#Develop code to find duplicate bank account with different name\n",
    "\n",
    "df['idcard'].replace(\"\", np.nan, inplace=True)\n",
    "df.dropna(inplace=True)\n",
    "#grouped_df = df.groupby('idcard')\n",
    "\n",
    "#for key, item in grouped_df:\n",
    "    #print(grouped_df.get_group(key), \"\\n\\n\")\n",
    "    #print(\"==========================\")\n",
    "\n",
    "def handler(df):\n",
    "    for col in ['idcard', 'fullname']:\n",
    "        if df.loc[:, col].nunique() > 1:\n",
    "            return 'error in {} for id {}'.format(col, df.index[0])\n",
    "#     else:\n",
    "#         return 'pass'\n",
    "result = df.groupby('idcard',level=0).apply(handler)\n",
    "#result = df.groupby('idcard',level=0)\n",
    "result"
   ]
  },
  {
   "cell_type": "markdown",
   "metadata": {},
   "source": [
    "## Download pictures"
   ]
  },
  {
   "cell_type": "code",
   "execution_count": null,
   "metadata": {
    "code_folding": [
     0
    ],
    "scrolled": false
   },
   "outputs": [],
   "source": [
    "#Download pictures (split by space)\n",
    "connect_ftp()\n",
    "id_to_download = \"\"\n",
    "id_to_download = input()\n",
    "id_to_download = id_to_download.split()\n",
    "\n",
    "df_file_to_download = file[(file['report_id'].isin(id_to_download))]\n",
    "file_to_download = df_file_to_download['report_item_filename'].values.tolist()\n",
    "\n",
    "for x in file_to_download: \n",
    "    localfile = open(x, 'wb')\n",
    "    ftp.retrbinary('RETR ' + x, localfile.write, 1024)\n",
    "    #ftp.quit()\n",
    "    localfile.close()\n",
    "    \n",
    "# import subprocess\n",
    "# subprocess.Popen(r'explorer /select,\"D:\\!DATA\\Dropbox\\!!Sync Goodreader\\Big Data\\Python Project files\\bls\\SQL_connect\"')"
   ]
  },
  {
   "cell_type": "markdown",
   "metadata": {},
   "source": [
    "## Upload pictures"
   ]
  },
  {
   "cell_type": "code",
   "execution_count": null,
   "metadata": {
    "code_folding": [
     0
    ],
    "scrolled": false
   },
   "outputs": [],
   "source": [
    "#upload pictures\n",
    "connect_ftp()\n",
    "URL = \"\" \n",
    "for x in file_to_download:\n",
    "    fp = open(x, 'rb')\n",
    "    ftp.storbinary('STOR %s' % os.path.basename(x), fp, 1024)\n",
    "    x\n",
    "    URL = URL + \"https://www.blacklistseller.com/assets/uploads/user_uploads_report/\" + x + \"\\n\"\n",
    "    fp.close()\n",
    "\n",
    "print(\"Purge with this link: https://dash.cloudflare.com/c81feeb849b00238ef4140da5642bbbd/blacklistseller.com/caching\\n\")\n",
    "print(URL)\n",
    "print(\"https://www.blacklistseller.com/report/report_preview/\" + str(x[1:6]))"
   ]
  },
  {
   "cell_type": "markdown",
   "metadata": {},
   "source": [
    "## Investigate case 🕵‍"
   ]
  },
  {
   "cell_type": "code",
   "execution_count": 28,
   "metadata": {},
   "outputs": [],
   "source": [
    "keyword = \"fomennl_shop\""
   ]
  },
  {
   "cell_type": "code",
   "execution_count": 29,
   "metadata": {
    "code_folding": [
     0
    ]
   },
   "outputs": [
    {
     "data": {
      "application/vnd.jupyter.widget-view+json": {
       "model_id": "b2ff6d45d4b945a186b4505f3d3661fb",
       "version_major": 2,
       "version_minor": 0
      },
      "text/plain": [
       "QgridWidget(grid_options={'fullWidthRows': True, 'syncColumnCellResize': True, 'forceFitColumns': True, 'defau…"
      ]
     },
     "metadata": {},
     "output_type": "display_data"
    },
    {
     "name": "stdout",
     "output_type": "stream",
     "text": [
      "['fomennl_shop fomennl_shop']\n"
     ]
    }
   ],
   "source": [
    "#CODE\n",
    "TEXT = \"SELECT * FROM tb_report where detail_text like '%\"+keyword+\"%' OR website like '%\"+keyword+\"%' order by report_id desc\"\n",
    "\n",
    "close_connection()\n",
    "connection = mysql.connector.connect(host='172.96.191.12',database='blacklis_db2020',user=username,password=password)\n",
    "mycursor = connection.cursor()\n",
    "mycursor.execute(TEXT)\n",
    "result = mycursor.fetchall()\n",
    "\n",
    "field_names = [i[0] for i in mycursor.description]\n",
    "\n",
    "df = pd.DataFrame(result, columns=field_names)\n",
    "df['fullname'] = df['first_name']+ \" \" + df['last_name']\n",
    "df.drop(['first_name','last_name'], axis=1, inplace = True)\n",
    "df = df[['report_id','fullname', 'detail_text', 'website', 'product']]\n",
    "qgrid.show_grid(df,grid_options={'fullWidthRows': True,'syncColumnCellResize': True,\n",
    "                                 'forceFitColumns': True,'rowHeight': 25,'enableColumnReorder': True,\n",
    "                                 'enableTextSelectionOnCells': True,'editable': True})\n",
    "\n",
    "listname = df['fullname'].tolist()\n",
    "listname = list(set(listname))\n",
    "print(listname)"
   ]
  },
  {
   "cell_type": "code",
   "execution_count": 30,
   "metadata": {},
   "outputs": [
    {
     "name": "stdout",
     "output_type": "stream",
     "text": [
      "#'fomennl_shop fomennl_shop'  |  fomennl_shop\n",
      "if(in_array($fullname, array('fomennl_shop fomennl_shop'))){\n",
      "?><hr /><?php\n",
      "echo \"<b> <p align='center'>  <font color=red font face='arial' size='3pt'> \" . \" ร้านใช้หลายบชในการรับเงิน : 'fomennl_shop fomennl_shop'\".\"</font>\". \"</p>\". \"</b>\";\n",
      "echo \"<b> <p align='center'>  <font color=red font face='arial' size='3pt'> \" . \" ร้าน fomennl_shop \".\"</font>\". \"</p>\". \"</b>\";\n",
      "}\n"
     ]
    }
   ],
   "source": [
    "# Code for announcement\n",
    "\n",
    "print(\"#\" + str(listname)[1:-1] +\"  |  \" + str(keyword))\n",
    "print(\"if(in_array($fullname, array(\" +str(listname)[1:-1]+\"))){\")\n",
    "print(\"?><hr /><?php\")\n",
    "print(\"echo \\\"<b> <p align='center'>  <font color=red font face='arial' size='3pt'> \\\" . \\\" ร้านใช้หลายบชในการรับเงิน : \"+ str(listname)[1:-1] + \"\\\".\\\"</font>\\\". \\\"</p>\\\". \\\"</b>\\\";\")\n",
    "print(\"echo \\\"<b> <p align='center'>  <font color=red font face='arial' size='3pt'> \\\" . \\\" ร้าน \" + str(keyword) +\" \\\".\\\"</font>\\\". \\\"</p>\\\". \\\"</b>\\\";\")\n",
    "print(\"}\")"
   ]
  },
  {
   "cell_type": "code",
   "execution_count": null,
   "metadata": {},
   "outputs": [],
   "source": []
  },
  {
   "cell_type": "markdown",
   "metadata": {},
   "source": [
    "## Display most freq name in 30 days"
   ]
  },
  {
   "cell_type": "code",
   "execution_count": null,
   "metadata": {
    "code_folding": [],
    "scrolled": false
   },
   "outputs": [],
   "source": [
    "# -*- coding: utf-8 -*-\n",
    "close_connection()\n",
    "connection = mysql.connector.connect(host='172.96.191.12',database='blacklis_db2020',user=username,password=password)\n",
    "mycursor = connection.cursor()\n",
    "TEXT = \"SELECT count(*) AS Freq, first_name,last_name FROM tb_report where report_id IN (SELECT report_id FROM `tb_report` WHERE create_date >= (CURRENT_TIMESTAMP()-INTERVAL 30 DAY)) GROUP by last_name order by count(*) DESC limit 10\"\n",
    "mycursor.execute(TEXT)\n",
    "result = mycursor.fetchall()\n",
    "\n",
    "#Get column name\n",
    "field_names = [i[0] for i in mycursor.description]\n",
    "\n",
    "df_freq = pd.DataFrame(result, columns=field_names) \n",
    "df_freq['fullname'] = df_freq['first_name']+ \" \" + df_freq['last_name']\n",
    "df_freq.drop( df_freq[ df_freq['fullname'] == \"ไม่รู้ ไม่รู้\" ].index , inplace=True)\n",
    "df_freq_list = df_freq['fullname'].tolist()\n",
    "tb_report_freq = tb_report[tb_report['fullname'].isin(df_freq_list)] \n",
    "\n",
    "tb_report_freq = tb_report_freq.groupby('fullname').agg({'report_id':'count', 'price': 'sum'}).reset_index().rename(columns={'price':'ความเสียหายรวม','report_id':'จำนวนผู้เสียหาย'}).sort_values(by='จำนวนผู้เสียหาย', ascending = False)\n",
    "tb_report_freq['ความเสียหายรวม']=tb_report_freq['ความเสียหายรวม'].apply(lambda x : \"{:,}\".format(x))\n",
    "_=tb_report_freq.set_index('fullname')\n",
    "\n",
    "\n",
    "tb_report_freq_graph = tb_report_freq.copy()\n",
    "tb_report_freq_graph.drop('ความเสียหายรวม', axis=1, inplace = True)\n",
    "tb_report_freq_graph.set_index('fullname',drop=True,inplace=True)\n",
    "tb_report_freq_graph\n",
    "fig = plt.figure(figsize=(10,6))\n",
    "# plt.plot(tb_report_freq_graph['fullname'],tb_report_freq_graph['ความเสียหายรวม'])\n",
    "\n",
    "plt.plot(tb_report_freq_graph)\n",
    "plt.xticks(rotation=90)\n",
    "\n",
    "# import matplotlib.pyplot as plt\n",
    "# fig = plt.figure()\n",
    "# ax = fig.add_axes([0,0,1,1])\n",
    "# langs = ['C', 'C++', 'Java', 'Python', 'PHP']\n",
    "# students = [23,17,35,29,12]\n",
    "# ax.bar(langs,students)\n",
    "# plt.show()"
   ]
  },
  {
   "cell_type": "markdown",
   "metadata": {},
   "source": [
    "## 📷Resize picture"
   ]
  },
  {
   "cell_type": "code",
   "execution_count": null,
   "metadata": {
    "code_folding": [
     0
    ],
    "scrolled": false
   },
   "outputs": [],
   "source": [
    "#Check if file exist and del db report_item_active  (DO NOT RUN)\n",
    "import urllib.request\n",
    "inactive_file = file[file['report_item_active'] == 0]\n",
    "\n",
    "def url_is_alive(url):\n",
    "    \"\"\"\n",
    "    Checks that a given URL is reachable.\n",
    "    :param url: A URL\n",
    "    :rtype: bool\n",
    "    \"\"\"\n",
    "    request = urllib.request.Request(url)\n",
    "    request.get_method = lambda: 'HEAD'\n",
    "\n",
    "    try:\n",
    "        urllib.request.urlopen(request)\n",
    "        return True\n",
    "    except urllib.request.HTTPError:\n",
    "        return False\n",
    "    \n",
    "for index, row in file_cut.iterrows():\n",
    "    row['report_item_filename']\n",
    "    url = \"https://www.blacklistseller.com/assets/uploads/user_uploads_report/\" + row['report_item_filename']\n",
    "    \n",
    "    if url_is_alive(url) == False:  #if file not exist\n",
    "        \n",
    "        connect_ftp()\n",
    "        close_connection()\n",
    "        connection = mysql.connector.connect(host='172.96.191.12',database='blacklis_db2020',user=username,password=password)\n",
    "        mycursor = connection.cursor()\n",
    "        \n",
    "        TEXT = \"DELETE FROM tb_report_item WHERE tb_report_item.report_item_filename = '\" + row['report_item_filename'] +\"'\"\n",
    "        TEXT\n",
    "        mycursor.execute(TEXT)\n",
    "        connection.commit()\n"
   ]
  },
  {
   "cell_type": "code",
   "execution_count": null,
   "metadata": {
    "scrolled": false
   },
   "outputs": [],
   "source": [
    "#CODE resize picture\n",
    "import cv2\n",
    "import pythainlp\n",
    "tmp1 = 0\n",
    "#url = \"https://www.blacklistseller.com/assets/uploads/user_uploads_report/\" + x\n",
    "\n",
    "tmp = open(\"resize_pic_report_id.txt\", 'r')\n",
    "for line in tmp.readlines():\n",
    "     resize_pic_report_id = line.rstrip().split(',') #using rstrip to remove the \\n    \n",
    "print(f\"Lastest report that display : {resize_pic_report_id}\")\n",
    "file_cut = file[file['report_id'] > int(resize_pic_report_id[0])]\n",
    "\n",
    "for index, row in file_cut.iterrows():\n",
    "    url = \"https://www.blacklistseller.com/assets/uploads/user_uploads_report/\" + row['report_item_filename']\n",
    "\n",
    "    #Then use row['xxx'] to perform and task\n",
    "\n",
    "    filename = url.split(\"/\")[6]\n",
    "    \n",
    "    #filter only jpg jpeg png\n",
    "    filetype = ['jpg','jpeg','png']\n",
    "    if filename.split(\".\")[1] in filetype:\n",
    "        \n",
    "        if row['report_id'] != tmp1:\n",
    "            print(\"Report_id : \" +str(row['report_id']))\n",
    "        \n",
    "        tmp1 = row['report_id']        \n",
    "        \n",
    "        text_file = open(\"resize_pic_report_id.txt\", encoding=\"utf-8\", mode=\"w\")\n",
    "        _=text_file.write(str(row['report_id']) + \"\\n\")\n",
    "        #text_file.write(SQL)\n",
    "        text_file.close()\n",
    "\n",
    "        #Check filesize   \n",
    "\n",
    "#             #toBeTransferred = float(response.headers.get('content-length', len(response.content)))\n",
    "#             #is_chunked = requests.headers.get('transfer-encoding', '') == 'chunked'\n",
    "#             is_chunked = requests.get(url, stream=True).headers['transfer-encoding',''] == 'chunked'\n",
    "#             #content_length_s = requests.headers.get('content-length')\n",
    "#             content_length_s = int(float(requests.get(url, stream=True).headers['content-length'])/1000000)\n",
    "#             if not is_chunked and content_length_s.isdigit():\n",
    "#                 filesize = int(content_length_s)\n",
    "#             else:\n",
    "#                 filesize = 0\n",
    "\n",
    "        #filesize = int(float(requests.get(url, stream=True).headers['Content-length'])/1000000\n",
    "        #detect if filename is Thai\n",
    "        \n",
    "        #isalpha() \n",
    "        \n",
    "        #filename.split(\".\")[0]\n",
    "        #if filename.split(\".\")[0].split(\"_\")[1].isalpha() == False:  # Proceed only if there's text in filename\n",
    "            \n",
    "        try:\n",
    "            #detect(filename.split(\".\")[0])                     \n",
    "            #if detect(filename.split(\".\")[0]) == \"en\":\n",
    "            if pythainlp.util.countthai(filename.split(\".\")[0]) < 1: \n",
    "                filesize = int(float(requests.get(url, stream=True).headers['Content-length']))/1000000\n",
    "                #response_code = requests.get(url, stream=True, headers={'Accept-Encoding': None})\n",
    "\n",
    "                # percent of original size\n",
    "                if filesize > 4:\n",
    "                    scale_percent = 70\n",
    "                    if filesize > 7:\n",
    "                        scale_percent = 80            \n",
    "                else:\n",
    "                    scale_percent = 50\n",
    "\n",
    "                if filesize > 2:\n",
    "                    print(\"Item no : \" + str(index) + \" : \" + str(url)) \n",
    "                    print(\"Filesize : \"+ str(filesize) + \" MB\")\n",
    "\n",
    "                    connect_ftp()\n",
    "                    localfile = open(filename, 'wb')\n",
    "                    ftp.retrbinary('RETR ' + filename, localfile.write, 1024)    \n",
    "                    localfile.close()\n",
    "\n",
    "\n",
    "                    #====== use openCV to resize image ======\n",
    "\n",
    "                    img = cv2.imread(filename, cv2.IMREAD_UNCHANGED)\n",
    "\n",
    "                    print('Original Dimensions : ',img.shape)\n",
    "\n",
    "\n",
    "                    width = int(img.shape[1] * scale_percent / 100)\n",
    "                    height = int(img.shape[0] * scale_percent / 100)\n",
    "                    dim = (width, height)\n",
    "                    # resize image\n",
    "                    resized = cv2.resize(img, dim, interpolation = cv2.INTER_AREA)\n",
    "                    cv2.imwrite(filename, resized) \n",
    "\n",
    "                    print('Scaled with : '+ str(scale_percent)+ '%  |  Resized Dimensions : ',resized.shape)\n",
    "\n",
    "                    ## Code to display pic (error)    \n",
    "                    # cv2.startWindowThread()\n",
    "                    # cv2.imshow(\"Resized image\", resized)\n",
    "                    # cv2.waitKey(0)\n",
    "                    # cv2.destroyAllWindows()\n",
    "\n",
    "                    connect_ftp()\n",
    "                    _=ftp.cwd('/public_html/assets/uploads/user_uploads_report')\n",
    "\n",
    "                    fp = open(filename, 'rb')\n",
    "                    ftp.storbinary('STOR %s' % os.path.basename(filename), fp, 1024)\n",
    "                    fp.close()\n",
    "\n",
    "                    os.remove(filename)\n",
    "                    #os.remove(os.path.join(output_folder_path, input_file_name))\n",
    "\n",
    "                    #ftp.storbinary('STOR ' + \"xxx.jpg\", resized)\n",
    "                    #ftp.storbinary(filename, resized)\n",
    "                    #ftp.storbinary('STOR %s' % os.path.basename(\"xx\"), resized, 1024)\n",
    "\n",
    "                    # for x in file_to_download:\n",
    "                    #     fp = open(x, 'rb')\n",
    "                    #     ftp.storbinary('STOR %s' % os.path.basename(x), fp, 1024)\n",
    "                    #     x\n",
    "                    #     fp.close()\n",
    "                    print(\".................................................\")\n",
    "        except:\n",
    "            print(\" \")"
   ]
  },
  {
   "cell_type": "markdown",
   "metadata": {},
   "source": [
    "## Find True Wallet fake name"
   ]
  },
  {
   "cell_type": "code",
   "execution_count": null,
   "metadata": {
    "scrolled": true
   },
   "outputs": [],
   "source": [
    "close_connection()\n",
    "    \n",
    "connection = mysql.connector.connect(host='172.96.191.12',database='blacklis_db2020',user=username,password=password)\n",
    "mycursor = connection.cursor()\n",
    "\n",
    "#TEXT = \"SELECT count(*),first_name,last_name FROM tb_report where report_id IN (SELECT report_id FROM `tb_report` WHERE create_date >= (CURRENT_TIMESTAMP()-60*60*24*2)) GROUP by last_name order by count(*) DESC limit 10\"\n",
    "TEXT = \"SELECT tb_report_bank.bank_number,tb_report.first_name, tb_report.last_name, tb_report.report_id FROM tb_report JOIN tb_report_bank ON tb_report.report_id = tb_report_bank.report_id\"\n",
    "#\treport_bank_id\tbank_id\tbank_number\treport_id\treport_bank_active\n",
    "mycursor.execute(TEXT)\n",
    "result = mycursor.fetchall()\n",
    "field_names = [i[0] for i in mycursor.description]\n",
    "df1=pd.DataFrame(result, columns=field_names)\n",
    "df1['bank_number'] = df1['bank_number'].astype('str')\n",
    "filter = df1['bank_number'].str.len() == 10\n",
    "df1 = df1.loc[filter]\n",
    "df1['fullname'] = df1['first_name']+ \" \" + df1['last_name']\n",
    "df1.drop(['first_name','last_name'], axis=1, inplace = True)\n",
    "df1 = df1.sort_values(by='bank_number', ascending = True)\n",
    "\n",
    "pd.set_option('display.max_rows', None)\n",
    "\n",
    "df1 = df1.set_index(['bank_number','fullname'])\n",
    "df1 = df1.loc[~df1.index.duplicated(keep='first')]\n",
    "\n",
    "df1 = df1.groupby(['bank_number','fullname']).size()\n",
    "#df1 = df1.groupby(['bank_number']).agg({'fullname': np.size}).sort_values(by='fullname', ascending = False)\n",
    "#df1 = df1.groupby('bank_number')\n",
    "\n",
    "df1\n",
    "# df1.groupby('bank_number')\n"
   ]
  },
  {
   "cell_type": "code",
   "execution_count": null,
   "metadata": {
    "scrolled": true
   },
   "outputs": [],
   "source": [
    "# with open(\"listofbankactive0.txt\", \"w\") as output:\n",
    "#     output.write(str(A))"
   ]
  },
  {
   "cell_type": "code",
   "execution_count": null,
   "metadata": {
    "scrolled": true
   },
   "outputs": [],
   "source": [
    "## TEMP SQL COMMAND\n",
    "close_connection()\n",
    "    \n",
    "connection = mysql.connector.connect(host='172.96.191.12',database='blacklis_db2020',user=username,password=password)\n",
    "mycursor = connection.cursor()\n",
    "\n",
    "TEXT =\"\"\n",
    "mycursor.execute(TEXT)\n",
    "result = mycursor.fetchall()"
   ]
  },
  {
   "cell_type": "markdown",
   "metadata": {},
   "source": [
    "## Clean tb_report_bank"
   ]
  },
  {
   "cell_type": "code",
   "execution_count": null,
   "metadata": {
    "scrolled": true
   },
   "outputs": [],
   "source": [
    "close_connection()\n",
    "    \n",
    "connection = mysql.connector.connect(host='172.96.191.12',database='blacklis_db2020',user=username,password=password)\n",
    "mycursor = connection.cursor()\n",
    "\n",
    "TEXT = \"SELECT tb_report_bank.report_bank_id, tb_report_bank.bank_number,tb_report.first_name, tb_report.last_name, tb_report.report_id, tb_report_bank.report_bank_active FROM tb_report JOIN tb_report_bank ON tb_report.report_id = tb_report_bank.report_id\"\n",
    "# report_bank_id bank_id bank_number report_id report_bank_active\n",
    "\n",
    "mycursor.execute(TEXT)\n",
    "result = mycursor.fetchall()\n",
    "field_names = [i[0] for i in mycursor.description]\n",
    "df1=pd.DataFrame(result, columns=field_names)\n",
    "df1=df1.sort_values(by='bank_number', ascending = True)\n",
    "#A = df1[df1['report_bank_active'] == 0]\n",
    "\n",
    "#df1[df1['bank_number'].str.contains('\\t')]\n",
    "#df1.to_excel (r'D:\\Data\\Desktop\\bank.xlsx', index = True, header=True)"
   ]
  },
  {
   "cell_type": "markdown",
   "metadata": {},
   "source": [
    "## Cloudflare API"
   ]
  },
  {
   "cell_type": "code",
   "execution_count": null,
   "metadata": {
    "scrolled": true
   },
   "outputs": [],
   "source": [
    "import CloudFlare\n",
    "\n",
    "def main():\n",
    "    cf = CloudFlare.CloudFlare(email='pisarnwate@live.com', token='e201c0a41a58318fe93e79c29f265423533a2')\n",
    "    zones = cf.zones.get()    \n",
    "    for zone in zones:\n",
    "        zone_id = zone['id']\n",
    "        zone_name = zone['name']\n",
    "        print(zone_id)\n",
    "        print(zone_name)\n",
    "\n",
    "main()"
   ]
  },
  {
   "cell_type": "code",
   "execution_count": null,
   "metadata": {
    "scrolled": true
   },
   "outputs": [],
   "source": [
    "import requests\n",
    "\n",
    "headers = {\n",
    "    'X-Auth-Email': 'pisarnwate@live.com',\n",
    "    'X-Auth-Key': 'e201c0a41a58318fe93e79c29f265423533a2',\n",
    "    'Content-Type': 'application/json',\n",
    "}\n",
    "\n",
    "data = '{\"files\":[\"http://www.blacklistseller.com/css/styles.css\",{\"url\":\"https://blacklistseller.com/assets/uploads/user_uploads_report/[29160]_Screenshot_20200423-201047.png\",\"headers\":{\"Origin\":\"cloudflare.com\",\"CF-IPCountry\":\"US\",\"CF-Device-Type\":\"desktop\"}}]}'\n",
    "\n",
    "response = requests.post('https://api.cloudflare.com/client/v4/zones/c9bd0fb0936b6bf3f5e960919583a0e0/purge_cache', headers=headers, data=data)\n",
    "\n",
    "response\n",
    "\n",
    "# Curl command to purge cache\n",
    "\n",
    "# curl -X POST \"https://api.cloudflare.com/client/v4/zones/c9bd0fb0936b6bf3f5e960919583a0e0/purge_cache\" \\\n",
    "#      -H \"X-Auth-Email: pisarnwate@live.com\" \\\n",
    "#      -H \"X-Auth-Key: e201c0a41a58318fe93e79c29f265423533a2\" \\\n",
    "#      -H \"Content-Type: application/json\" \\\n",
    "#      --data '{\"files\":[\"http://www.blacklistseller.com/css/styles.css\",{\"url\":\"https://blacklistseller.com/assets/uploads/user_uploads_report/[16740]_Screenshot_20200116-194046_Messenger.jpg\",\"headers\":{\"Origin\":\"cloudflare.com\",\"CF-IPCountry\":\"US\",\"CF-Device-Type\":\"desktop\"}}]}'"
   ]
  },
  {
   "cell_type": "code",
   "execution_count": null,
   "metadata": {},
   "outputs": [],
   "source": [
    "\n",
    "#Curl command to purge cache\n",
    "\n",
    "curl -X POST \"https://api.cloudflare.com/client/v4/zones/c9bd0fb0936b6bf3f5e960919583a0e0/purge_cache\" \\\n",
    "     -H \"X-Auth-Email: pisarnwate@live.com\" \\\n",
    "     -H \"X-Auth-Key: e201c0a41a58318fe93e79c29f265423533a2\" \\\n",
    "     -H \"Content-Type: application/json\" \\\n",
    "     --data '{\"files\":[\"http://www.blacklistseller.com/css/styles.css\",{\"url\":\"https://blacklistseller.com/assets/uploads/user_uploads_report/[16740]_Screenshot_20200116-194046_Messenger.jpg\",\"headers\":{\"Origin\":\"cloudflare.com\",\"CF-IPCountry\":\"US\",\"CF-Device-Type\":\"desktop\"}}]}'"
   ]
  },
  {
   "cell_type": "markdown",
   "metadata": {},
   "source": [
    "## Graph Creating a report"
   ]
  },
  {
   "cell_type": "code",
   "execution_count": null,
   "metadata": {
    "code_folding": [
     0
    ],
    "scrolled": false
   },
   "outputs": [],
   "source": [
    "#Graph Creating a report\n",
    "#tb_report[['create_date']]\n",
    "tb_report['date'] = pd.to_datetime(tb_report['create_date'], format='%d-%m-%Y').dt.date\n",
    "\n",
    "fig = plt.figure(figsize=(10,6))\n",
    "plt.title('Daily Created Report')\n",
    "plt.plot(tb_report.groupby('date').size())\n",
    "\n",
    "# Cumulative\n",
    "fig = plt.figure(figsize=(10,6))\n",
    "plt.title('Cumulative Report')\n",
    "plt.plot(tb_report.groupby('date').size().cumsum())"
   ]
  },
  {
   "cell_type": "markdown",
   "metadata": {},
   "source": [
    "## B"
   ]
  },
  {
   "cell_type": "code",
   "execution_count": null,
   "metadata": {
    "scrolled": true
   },
   "outputs": [],
   "source": [
    "mycursor.execute(\"select * from tb_bank_number_stat\")\n",
    "result = mycursor.fetchall()\n",
    "field_names = [i[0] for i in mycursor.description]  #Column name\n",
    "bank = pd.DataFrame(result, columns=field_names)\n",
    "#bank['digit'] = len(bank['bank_number'])\n",
    "bank['digit'] = len(bank['bank_number'].astype(str).astype('int64'))\n",
    "# bank.iloc[1600:1605,]\n",
    "bank.head()"
   ]
  },
  {
   "cell_type": "markdown",
   "metadata": {},
   "source": [
    "## 🙍‍ Support"
   ]
  },
  {
   "cell_type": "markdown",
   "metadata": {},
   "source": [
    "### Change seller name by report ID"
   ]
  },
  {
   "cell_type": "code",
   "execution_count": 26,
   "metadata": {},
   "outputs": [],
   "source": [
    "changename = \"\"\"\n",
    "32660->ปัทเมศย์ มุสิทธิ์มณี\n",
    "32652->พัชรพร นุเคราะห์\n",
    "32646->ณภัทร ภวภูตานนท์\n",
    "31180,31082,31201,31972->fomennl_shop fomennl_shop\n",
    "32244->ฐานิตา ชารี\n",
    "31438->ธมนรักษ์ พิทย์จงหิรัญ\n",
    "\"\"\""
   ]
  },
  {
   "cell_type": "code",
   "execution_count": 27,
   "metadata": {
    "code_folding": [
     0
    ],
    "scrolled": false
   },
   "outputs": [
    {
     "data": {
      "text/plain": [
       "\"UPDATE tb_report SET first_name = 'ปัทเมศย์',last_name =  'มุสิทธิ์มณี' WHERE tb_report.report_id = 32660\""
      ]
     },
     "execution_count": 27,
     "metadata": {},
     "output_type": "execute_result"
    },
    {
     "data": {
      "text/plain": [
       "\"UPDATE tb_report SET first_name = 'พัชรพร',last_name =  'นุเคราะห์' WHERE tb_report.report_id = 32652\""
      ]
     },
     "execution_count": 27,
     "metadata": {},
     "output_type": "execute_result"
    },
    {
     "data": {
      "text/plain": [
       "\"UPDATE tb_report SET first_name = 'ณภัทร',last_name =  'ภวภูตานนท์' WHERE tb_report.report_id = 32646\""
      ]
     },
     "execution_count": 27,
     "metadata": {},
     "output_type": "execute_result"
    },
    {
     "data": {
      "text/plain": [
       "\"UPDATE tb_report SET first_name = 'fomennl_shop',last_name =  'fomennl_shop' WHERE tb_report.report_id = 31180\""
      ]
     },
     "execution_count": 27,
     "metadata": {},
     "output_type": "execute_result"
    },
    {
     "data": {
      "text/plain": [
       "\"UPDATE tb_report SET first_name = 'fomennl_shop',last_name =  'fomennl_shop' WHERE tb_report.report_id = 31082\""
      ]
     },
     "execution_count": 27,
     "metadata": {},
     "output_type": "execute_result"
    },
    {
     "data": {
      "text/plain": [
       "\"UPDATE tb_report SET first_name = 'fomennl_shop',last_name =  'fomennl_shop' WHERE tb_report.report_id = 31201\""
      ]
     },
     "execution_count": 27,
     "metadata": {},
     "output_type": "execute_result"
    },
    {
     "data": {
      "text/plain": [
       "\"UPDATE tb_report SET first_name = 'fomennl_shop',last_name =  'fomennl_shop' WHERE tb_report.report_id = 31972\""
      ]
     },
     "execution_count": 27,
     "metadata": {},
     "output_type": "execute_result"
    },
    {
     "data": {
      "text/plain": [
       "\"UPDATE tb_report SET first_name = 'ฐานิตา',last_name =  'ชารี' WHERE tb_report.report_id = 32244\""
      ]
     },
     "execution_count": 27,
     "metadata": {},
     "output_type": "execute_result"
    },
    {
     "data": {
      "text/plain": [
       "\"UPDATE tb_report SET first_name = 'ธมนรักษ์',last_name =  'พิทย์จงหิรัญ' WHERE tb_report.report_id = 31438\""
      ]
     },
     "execution_count": 27,
     "metadata": {},
     "output_type": "execute_result"
    }
   ],
   "source": [
    "#Automatically Change fullname by report_ID\n",
    "split_changename = changename.splitlines()\n",
    "for line in split_changename:\n",
    "    if len(line)>2:\n",
    "        listofline = line.split(\"->\")\n",
    "        xx = listofline[0]\n",
    "        xx=xx.strip()\n",
    "        a,b = listofline[1].split()\n",
    "        a=a.strip()\n",
    "        b=b.strip()\n",
    "        xxx = xx.split(',')\n",
    "        if len(xxx) == 1:\n",
    "            close_connection()\n",
    "            connection = mysql.connector.connect(host='172.96.191.12',database='blacklis_db2020',user=username,password=password)\n",
    "            mycursor = connection.cursor()\n",
    "            TEXT = \"UPDATE tb_report SET first_name = '\" + str(a) + \"',last_name =  '\" + str(b) + \"' WHERE tb_report.report_id = \" + str(xx)\n",
    "            TEXT\n",
    "            mycursor.execute(TEXT)\n",
    "            connection.commit()            \n",
    "        else:\n",
    "            for xxxx in xxx:\n",
    "                close_connection()\n",
    "                connection = mysql.connector.connect(host='172.96.191.12',database='blacklis_db2020',user=username,password=password)\n",
    "                mycursor = connection.cursor()\n",
    "                TEXT = \"UPDATE tb_report SET first_name = '\" + str(a) + \"',last_name =  '\" + str(b) + \"' WHERE tb_report.report_id = \" + str(xxxx)\n",
    "                TEXT\n",
    "                mycursor.execute(TEXT)\n",
    "                connection.commit()                "
   ]
  },
  {
   "cell_type": "code",
   "execution_count": null,
   "metadata": {
    "code_folding": [
     0
    ]
   },
   "outputs": [],
   "source": [
    "#Manually change name by each report\n",
    "\n",
    "#Change fullname by report_ID\n",
    "# while True:\n",
    "#     print(\"REPORT ID, seperate by comma\")\n",
    "#     xx = \"\"\n",
    "#     xx = input()\n",
    "#     if xx:\n",
    "#         xx = xx.split(',')\n",
    "#         print(\"fullname\")\n",
    "#         a,b = input().split()\n",
    "#         a=a.strip()\n",
    "#         b=b.strip()\n",
    "\n",
    "#         close_connection()\n",
    "#         connection = mysql.connector.connect(host='172.96.191.12',database='blacklis_db2020',user=username,password=password)\n",
    "#         mycursor = connection.cursor()\n",
    "\n",
    "#         for x in xx:\n",
    "#             x = x.strip()\n",
    "#             TEXT = \"UPDATE tb_report SET first_name = '\" + str(a) + \"',last_name =  '\" + str(b) + \"' WHERE tb_report.report_id = \" + str(x)\n",
    "#             TEXT\n",
    "#             mycursor.execute(TEXT)\n",
    "#             connection.commit()\n",
    "#     else:\n",
    "#         print(\"\\nEXITING\")\n",
    "#         break"
   ]
  },
  {
   "cell_type": "markdown",
   "metadata": {},
   "source": [
    "### Change bank account"
   ]
  },
  {
   "cell_type": "code",
   "execution_count": null,
   "metadata": {
    "code_folding": [
     0
    ]
   },
   "outputs": [],
   "source": [
    "#Display bank list table\n",
    "close_connection()\n",
    "connection = mysql.connector.connect(host='172.96.191.12',database='blacklis_db2020',user=username,password=password)\n",
    "mycursor = connection.cursor()\n",
    "\n",
    "TEXT = \"SELECT * FROM tb_bank\"\n",
    "mycursor.execute(TEXT)\n",
    "result = mycursor.fetchall()\n",
    "field_names = [i[0] for i in mycursor.description]\n",
    "var1 = pd.DataFrame(result, columns=field_names)\n",
    "var1.set_index('bank_id')"
   ]
  },
  {
   "cell_type": "code",
   "execution_count": null,
   "metadata": {
    "code_folding": [
     0
    ]
   },
   "outputs": [],
   "source": [
    "# NOT DONE YET   (code to fix bank name and report name)\n",
    "report_id_to_check = 22395\n",
    "\n",
    "close_connection()\n",
    "connection = mysql.connector.connect(host='172.96.191.12',database='blacklis_db2020',user=username,password=password)\n",
    "mycursor = connection.cursor()\n",
    "\n",
    "TEXT = \"SELECT * FROM tb_report_bank WHERE report_id = \" + str(report_id_to_check)\n",
    "mycursor.execute(TEXT)\n",
    "result = mycursor.fetchall()\n",
    "field_names = [i[0] for i in mycursor.description]\n",
    "table1 = pd.DataFrame(result, columns=field_names)\n",
    "table1.set_index('report_id')\n",
    "\n",
    "TEXT = \"SELECT report_id, first_name, last_name FROM tb_report WHERE report_id = \" + str(report_id_to_check)\n",
    "mycursor.execute(TEXT)\n",
    "result = mycursor.fetchall()\n",
    "field_names = [i[0] for i in mycursor.description]\n",
    "table2 = pd.DataFrame(result, columns=field_names)\n",
    "table2.set_index('report_id')"
   ]
  },
  {
   "cell_type": "markdown",
   "metadata": {},
   "source": [
    "### Send & Retrieve report to/from support"
   ]
  },
  {
   "cell_type": "code",
   "execution_count": null,
   "metadata": {},
   "outputs": [],
   "source": [
    "#   24530 กับ 24407 "
   ]
  },
  {
   "cell_type": "code",
   "execution_count": null,
   "metadata": {
    "code_folding": [
     0
    ]
   },
   "outputs": [],
   "source": [
    "#Send report to support\n",
    "# 1. copy userid to admin note\n",
    "# 2. replace user id with user id 59919 \n",
    "print(\"Report_ID to transfer to support : \")\n",
    "x=input()\n",
    "\n",
    "# TEXT = \"UPDATE tb_report SET admin_note = user_id WHERE report_id = \" + str(x)\n",
    "# TEXT\n",
    "runsql(\"UPDATE tb_report SET admin_note = user_id WHERE report_id = \" + str(x))\n",
    "runsql(\"UPDATE tb_report SET user_id = 59919 WHERE report_id = \" + str(x))  "
   ]
  },
  {
   "cell_type": "code",
   "execution_count": null,
   "metadata": {
    "code_folding": [
     0
    ]
   },
   "outputs": [],
   "source": [
    "#Retrieve report back to real owner\n",
    "print(\"Report_ID to retrieve back : \")\n",
    "x=input()\n",
    "runsql(\"UPDATE tb_report SET user_id = admin_note WHERE report_id = \" + str(x))"
   ]
  },
  {
   "cell_type": "code",
   "execution_count": null,
   "metadata": {},
   "outputs": [],
   "source": []
  },
  {
   "cell_type": "markdown",
   "metadata": {},
   "source": [
    "### Export tb_report to export"
   ]
  },
  {
   "cell_type": "code",
   "execution_count": null,
   "metadata": {
    "code_folding": [
     0
    ],
    "scrolled": false
   },
   "outputs": [],
   "source": [
    "#PREPARE TB_REPORT\n",
    "close_connection()\n",
    "connection = mysql.connector.connect(host='172.96.191.12',database='blacklis_db2020',user=username,password=password)\n",
    "mycursor = connection.cursor()\n",
    "\n",
    "mycursor.execute(\"select * from tb_report\")\n",
    "result = mycursor.fetchall()\n",
    "field_names = [i[0] for i in mycursor.description]  #Column name\n",
    "tb_report = pd.DataFrame(result, columns=field_names)\n",
    "\n",
    "#prepare tb_report\n",
    "df = tb_report[['report_id','first_name','last_name','idcard','product', 'price', 'website', 'detail_text', 'date', 'active']]\n",
    "df['fullname'] = df['first_name']+ \" \" + df['last_name']\n",
    "df = df[['report_id','first_name','last_name','fullname','idcard','product','price','detail_text','website','date','active']]\n",
    "df = df.set_index(['report_id'])\n",
    "\n",
    "d = datetime.datetime.today().strftime(\"%d-%B-%Y\")\n",
    "tb_report_filename = \"tb_report-\" + str(d) + \".xls\"\n",
    "tb_report_filename\n",
    "df.to_excel(tb_report_filename)\n",
    "print(\"Done export excel file\")"
   ]
  },
  {
   "cell_type": "markdown",
   "metadata": {},
   "source": [
    "## For student (cleansing data) , export detail & website"
   ]
  },
  {
   "cell_type": "code",
   "execution_count": null,
   "metadata": {
    "code_folding": [
     0
    ],
    "scrolled": true
   },
   "outputs": [],
   "source": [
    "#PREPARE TB_REPORT\n",
    "close_connection()\n",
    "connection = mysql.connector.connect(host='172.96.191.12',database='blacklis_db2020',user=username,password=password)\n",
    "mycursor = connection.cursor()\n",
    "\n",
    "mycursor.execute(\"select * from tb_report\")\n",
    "result = mycursor.fetchall()\n",
    "field_names = [i[0] for i in mycursor.description]  #Column name\n",
    "tb_report = pd.DataFrame(result, columns=field_names)\n",
    "\n",
    "#prepare tb_report\n",
    "df = tb_report[['report_id', 'detail_text','website']]\n",
    "df = df.set_index(['report_id'])\n",
    "df=df.sort_index(axis = 0) "
   ]
  },
  {
   "cell_type": "code",
   "execution_count": null,
   "metadata": {
    "scrolled": true
   },
   "outputs": [],
   "source": [
    "#cut only first 1000 rows to student\n",
    "to_export = df.iloc[:1000]\n",
    "to_export\n",
    "to_export.to_excel(\"df_for_cleaning_website.xls\")"
   ]
  },
  {
   "cell_type": "markdown",
   "metadata": {},
   "source": [
    "## WordCount website"
   ]
  },
  {
   "cell_type": "code",
   "execution_count": null,
   "metadata": {
    "code_folding": [
     0
    ],
    "scrolled": true
   },
   "outputs": [],
   "source": [
    "#PREPARE TB_REPORT\n",
    "close_connection()\n",
    "connection = mysql.connector.connect(host='172.96.191.12',database='blacklis_db2020',user=username,password=password)\n",
    "mycursor = connection.cursor()\n",
    "\n",
    "mycursor.execute(\"select * from tb_report\")\n",
    "result = mycursor.fetchall()\n",
    "field_names = [i[0] for i in mycursor.description]  #Column name\n",
    "tb_report = pd.DataFrame(result, columns=field_names)\n",
    "\n",
    "#prepare tb_report\n",
    "df = tb_report[['report_id','first_name','last_name','idcard','product', 'price', 'website', 'detail_text', 'date', 'active']]\n",
    "df['fullname'] = df['first_name']+ \" \" + df['last_name']\n",
    "df = df[['report_id','first_name','last_name','fullname','idcard','product','price','detail_text','website','date','active']]\n",
    "df = df.set_index(['report_id'])"
   ]
  },
  {
   "cell_type": "code",
   "execution_count": null,
   "metadata": {
    "scrolled": true
   },
   "outputs": [],
   "source": [
    "pd.set_option('display.max_rows', None)\n",
    "\n",
    "\n",
    "df['website'] = df['website'].str.replace('/' , ', ')\n",
    "df['website'] = df['website'].str.replace(' ' , ', ')\n",
    "\n",
    "dff = (df['website'].str.split(',' ,expand=True)\n",
    "              .stack()\n",
    "              .value_counts()\n",
    "              .rename_axis('vals')\n",
    "              .reset_index(name='count'))"
   ]
  },
  {
   "cell_type": "code",
   "execution_count": null,
   "metadata": {},
   "outputs": [],
   "source": []
  },
  {
   "cell_type": "markdown",
   "metadata": {},
   "source": [
    "## Blur face image"
   ]
  },
  {
   "cell_type": "code",
   "execution_count": null,
   "metadata": {
    "code_folding": [
     0
    ]
   },
   "outputs": [],
   "source": [
    "\n",
    "imagepath = \"face.jpg\"\n",
    "image = cv2.imread(imagepath)\n",
    "result_image = image.copy()\n",
    "\n",
    "# Specify the trained cascade classifier\n",
    "face_cascade_name = \"./haarcascade_frontalface_alt.xml\"\n",
    "\n",
    "# Create a cascade classifier\n",
    "face_cascade = cv2.CascadeClassifier()\n",
    "\n",
    "# Load the specified classifier\n",
    "face_cascade.load(face_cascade_name)\n",
    "\n",
    "#Preprocess the image\n",
    "grayimg = cv2.cvtColor(image, cv2.cv.CV_BGR2GRAY)\n",
    "grayimg = cv2.equalizeHist(grayimg)\n",
    "\n",
    "#Run the classifiers\n",
    "faces = face_cascade.detectMultiScale(grayimg, 1.1, 2, 0|cv2.cv.CV_HAAR_SCALE_IMAGE, (30, 30))\n",
    "\n",
    "print(\"Faces detected\")\n",
    "\n",
    "if len(faces) != 0:         # If there are faces in the images\n",
    "    for f in faces:         # For each face in the image\n",
    "\n",
    "        # Get the origin co-ordinates and the length and width till where the face extends\n",
    "        x, y, w, h = [ v for v in f ]\n",
    "\n",
    "        # get the rectangle img around all the faces\n",
    "        cv2.rectangle(image, (x,y), (x+w,y+h), (255,255,0), 5)\n",
    "        sub_face = image[y:y+h, x:x+w]\n",
    "        # apply a gaussian blur on this new recangle image\n",
    "        sub_face = cv2.GaussianBlur(sub_face,(23, 23), 30)\n",
    "        # merge this blurry rectangle to our final image\n",
    "        result_image[y:y+sub_face.shape[0], x:x+sub_face.shape[1]] = sub_face\n",
    "        face_file_name = \"./face_\" + str(y) + \".jpg\"\n",
    "        cv2.imwrite(face_file_name, sub_face)\n",
    "\n",
    "# cv2.imshow(\"Detected face\", result_image)\n",
    "cv2.imwrite(\"./result.png\", result_image)"
   ]
  },
  {
   "cell_type": "code",
   "execution_count": null,
   "metadata": {},
   "outputs": [],
   "source": []
  },
  {
   "cell_type": "code",
   "execution_count": null,
   "metadata": {},
   "outputs": [],
   "source": []
  },
  {
   "cell_type": "markdown",
   "metadata": {},
   "source": [
    "## Watermark Image"
   ]
  },
  {
   "cell_type": "code",
   "execution_count": null,
   "metadata": {
    "scrolled": true
   },
   "outputs": [],
   "source": [
    "from PIL import Image\n",
    "image = Image.open('bls logo.png')\n",
    "print(type(image))  # output: <class 'PIL.JpegImagePlugin.JpegImageFile'>\n",
    "# image.show()\n",
    "print(image.size)\n",
    "\n",
    "# image.save('test.png')"
   ]
  },
  {
   "cell_type": "code",
   "execution_count": null,
   "metadata": {
    "code_folding": [
     9
    ],
    "scrolled": true
   },
   "outputs": [],
   "source": [
    "from PIL import Image\n",
    "\n",
    "image_to_do = \"[25001]_Screenshot_2020-03-29-22-09-35-95.png\"\n",
    "logo_file = \"bls logo.png\"\n",
    "output_file = \"test.png\"\n",
    "image = Image.open(image_to_do)\n",
    "logo = Image.open(logo_file)\n",
    "\n",
    "\n",
    "def create_watermark(image_path, final_image_path, watermark):\n",
    "    main = Image.open(image_path)\n",
    "    mark = Image.open(watermark)\n",
    "    mask = mark.convert('L').point(lambda x: min(x, 25))\n",
    "    mark.putalpha(mask)\n",
    "\n",
    "    mark_width, mark_height = mark.size\n",
    "    main_width, main_height = main.size\n",
    "    aspect_ratio = mark_width / mark_height\n",
    "    new_mark_width = main_width * 0.25\n",
    "    mark.thumbnail((new_mark_width, new_mark_width / aspect_ratio), Image.ANTIALIAS)\n",
    "\n",
    "    tmp_img = Image.new('RGB', main.size)\n",
    "    \n",
    "    for i in range(0, tmp_img.size[0], mark.size[0]):\n",
    "        for j in range(0, tmp_img.size[1], mark.size[1]):\n",
    "            main.paste(mark, (i, j), mark)\n",
    "            main.thumbnail((8000, 8000), Image.ANTIALIAS)\n",
    "            main.save(final_image_path, quality=100)\n",
    "\n",
    "create_watermark(image_to_do, output_file, logo_file)            \n",
    "\n",
    "# if __name__ == '__main__':\n",
    "#     create_watermark('images/original.jpg',\n",
    "#                      'images/original_final_watermarked.jpg',\n",
    "#                      'images/pybites_trans.png')\n",
    "\n",
    "showoutput = Image.open('test.png')\n",
    "showoutput.show()"
   ]
  },
  {
   "cell_type": "code",
   "execution_count": null,
   "metadata": {
    "scrolled": true
   },
   "outputs": [],
   "source": []
  },
  {
   "cell_type": "code",
   "execution_count": null,
   "metadata": {
    "scrolled": true
   },
   "outputs": [],
   "source": []
  },
  {
   "cell_type": "markdown",
   "metadata": {},
   "source": [
    "## Learn API"
   ]
  },
  {
   "cell_type": "code",
   "execution_count": null,
   "metadata": {},
   "outputs": [],
   "source": []
  },
  {
   "cell_type": "code",
   "execution_count": null,
   "metadata": {
    "scrolled": true
   },
   "outputs": [],
   "source": [
    "print(\"before import\")\n",
    "import math\n",
    "\n",
    "print(\"before functionA\")\n",
    "def functionA():\n",
    "    print(\"Function A\")\n",
    "\n",
    "print(\"before functionB\")\n",
    "def functionB():\n",
    "    print(\"Function B {}\".format(math.sqrt(100)))\n",
    "\n",
    "print(\"before __name__ guard\")\n",
    "if __name__ == '__main__':\n",
    "    functionA()\n",
    "    functionB()\n",
    "print(\"after __name__ guard\")"
   ]
  },
  {
   "cell_type": "code",
   "execution_count": null,
   "metadata": {
    "scrolled": true
   },
   "outputs": [],
   "source": []
  },
  {
   "cell_type": "code",
   "execution_count": null,
   "metadata": {},
   "outputs": [],
   "source": []
  },
  {
   "cell_type": "code",
   "execution_count": 34,
   "metadata": {},
   "outputs": [
    {
     "ename": "SyntaxError",
     "evalue": "invalid syntax (<ipython-input-34-57562feb7a46>, line 1)",
     "output_type": "error",
     "traceback": [
      "\u001b[1;36m  File \u001b[1;32m\"<ipython-input-34-57562feb7a46>\"\u001b[1;36m, line \u001b[1;32m1\u001b[0m\n\u001b[1;33m    git clone https://github.com/jitvimol/bls\u001b[0m\n\u001b[1;37m            ^\u001b[0m\n\u001b[1;31mSyntaxError\u001b[0m\u001b[1;31m:\u001b[0m invalid syntax\n"
     ]
    }
   ],
   "source": [
    "git clone https://github.com/jitvimol/bls "
   ]
  },
  {
   "cell_type": "code",
   "execution_count": null,
   "metadata": {},
   "outputs": [],
   "source": []
  },
  {
   "cell_type": "code",
   "execution_count": null,
   "metadata": {},
   "outputs": [],
   "source": []
  }
 ],
 "metadata": {
  "kernelspec": {
   "display_name": "Python 3",
   "language": "python",
   "name": "python3"
  },
  "language_info": {
   "codemirror_mode": {
    "name": "ipython",
    "version": 3
   },
   "file_extension": ".py",
   "mimetype": "text/x-python",
   "name": "python",
   "nbconvert_exporter": "python",
   "pygments_lexer": "ipython3",
   "version": "3.7.7"
  },
  "toc": {
   "base_numbering": 1,
   "nav_menu": {
    "height": "245px",
    "width": "180px"
   },
   "number_sections": false,
   "sideBar": true,
   "skip_h1_title": true,
   "title_cell": "Table of Contents",
   "title_sidebar": "Contents",
   "toc_cell": false,
   "toc_position": {
    "height": "737px",
    "left": "700px",
    "top": "167px",
    "width": "219.25px"
   },
   "toc_section_display": true,
   "toc_window_display": true
  }
 },
 "nbformat": 4,
 "nbformat_minor": 2
}
